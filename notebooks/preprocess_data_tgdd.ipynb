{
 "cells": [
  {
   "cell_type": "code",
   "execution_count": 1,
   "metadata": {},
   "outputs": [
    {
     "name": "stdout",
     "output_type": "stream",
     "text": [
      "G:\\My Drive\\projects\\table-qa-in-ecommerce\n"
     ]
    }
   ],
   "source": [
    "cd \"G:\\My Drive\\projects\\table-qa-in-ecommerce\""
   ]
  },
  {
   "cell_type": "code",
   "execution_count": 2,
   "metadata": {},
   "outputs": [
    {
     "name": "stderr",
     "output_type": "stream",
     "text": [
      "c:\\Users\\namge\\anaconda3\\envs\\env01\\Lib\\site-packages\\tqdm\\auto.py:21: TqdmWarning: IProgress not found. Please update jupyter and ipywidgets. See https://ipywidgets.readthedocs.io/en/stable/user_install.html\n",
      "  from .autonotebook import tqdm as notebook_tqdm\n"
     ]
    }
   ],
   "source": [
    "from tqdm.auto import tqdm\n",
    "import os\n",
    "import json"
   ]
  },
  {
   "cell_type": "code",
   "execution_count": 3,
   "metadata": {},
   "outputs": [],
   "source": [
    "from src.data.utils_data import *"
   ]
  },
  {
   "cell_type": "code",
   "execution_count": 4,
   "metadata": {},
   "outputs": [],
   "source": [
    "laptop_qna_path_mapping = get_qna_path_mapping(QNA_DIRS['laptop'])\n",
    "phone_qna_path_mapping = get_qna_path_mapping(QNA_DIRS['phone'])\n",
    "tablet_qna_path_mapping = get_qna_path_mapping(QNA_DIRS['tablet'])"
   ]
  },
  {
   "cell_type": "code",
   "execution_count": 5,
   "metadata": {},
   "outputs": [
    {
     "data": {
      "text/plain": [
       "{'product_id': 'dtdd-iphone-15-pro',\n",
       " 'url': 'https://thegioididong.com/dtdd/iphone-15-pro',\n",
       " 'questions': [{'qa_id': 'p_dtdd-iphone-15-pro_qa_01',\n",
       "   'question': 'Điện thoại iPhone 15 Pro 128GB có thiết kế như thế nào?',\n",
       "   'question_category': 'thông tin chung',\n",
       "   'short_answer': 'Nguyên khối',\n",
       "   'long_answer': 'Điện thoại iPhone 15 Pro 128GB có thiết kế nguyên khối với khung Titan & Mặt lưng kính cường lực.'},\n",
       "  {'qa_id': 'p_dtdd-iphone-15-pro_qa_02',\n",
       "   'question': 'Màn hình của Điện thoại iPhone 15 Pro 128GB sử dụng công nghệ gì?',\n",
       "   'question_category': 'thông số kỹ thuật',\n",
       "   'short_answer': 'OLED',\n",
       "   'long_answer': 'Màn hình của Điện thoại iPhone 15 Pro 128GB sử dụng công nghệ màn hình OLED.'},\n",
       "  {'qa_id': 'p_dtdd-iphone-15-pro_qa_03',\n",
       "   'question': 'Camera sau của Điện thoại iPhone 15 Pro 128GB có độ phân giải bao nhiêu?',\n",
       "   'question_category': 'thông số kỹ thuật',\n",
       "   'short_answer': 'Chính 48 MP & Phụ 12 MP, 12 MP',\n",
       "   'long_answer': 'Camera sau của Điện thoại iPhone 15 Pro 128GB có độ phân giải chính 48 MP & Phụ 12 MP, 12 MP.'},\n",
       "  {'qa_id': 'p_dtdd-iphone-15-pro_qa_04',\n",
       "   'question': 'Điện thoại iPhone 15 Pro 128GB hỗ trợ mạng di động nào?',\n",
       "   'question_category': 'kết nối',\n",
       "   'short_answer': 'Hỗ trợ 5G',\n",
       "   'long_answer': 'Điện thoại iPhone 15 Pro 128GB hỗ trợ mạng di động 5G.'},\n",
       "  {'qa_id': 'p_dtdd-iphone-15-pro_qa_05',\n",
       "   'question': 'Điện thoại iPhone 15 Pro 128GB có khả năng chống nước, bụi không?',\n",
       "   'question_category': 'tiện ích',\n",
       "   'short_answer': 'IP68',\n",
       "   'long_answer': 'Điện thoại iPhone 15 Pro 128GB có khả năng chống nước, bụi với chuẩn IP68.'},\n",
       "  {'qa_id': 'p_dtdd-iphone-15-pro_qa_06',\n",
       "   'question': 'Mức giá hiện tại của Điện thoại iPhone 15 Pro 128GB là bao nhiêu?',\n",
       "   'question_category': 'thông tin chung',\n",
       "   'short_answer': '25.990.000₫',\n",
       "   'long_answer': 'Mức giá hiện tại của Điện thoại iPhone 15 Pro 128GB là 25.990.000₫.'},\n",
       "  {'qa_id': 'p_dtdd-iphone-15-pro_qa_07',\n",
       "   'question': 'Điện thoại iPhone 15 Pro 128GB có kích thước và khối lượng như thế nào?',\n",
       "   'question_category': 'thông tin chung',\n",
       "   'short_answer': 'Dài 146.6 mm - Ngang 70.6 mm - Dày 8.25 mm - Nặng 187 g',\n",
       "   'long_answer': 'Điện thoại iPhone 15 Pro 128GB có kích thước Dài 146.6 mm - Ngang 70.6 mm - Dày 8.25 mm và nặng 187 g.'},\n",
       "  {'qa_id': 'p_dtdd-iphone-15-pro_qa_08',\n",
       "   'question': 'Màn hình của Điện thoại iPhone 15 Pro 128GB có độ phân giải bao nhiêu?',\n",
       "   'question_category': 'thông số kỹ thuật',\n",
       "   'short_answer': 'Super Retina XDR (1179 x 2556 Pixels)',\n",
       "   'long_answer': 'Màn hình của Điện thoại iPhone 15 Pro 128GB có độ phân giải Super Retina XDR (1179 x 2556 Pixels).'},\n",
       "  {'qa_id': 'p_dtdd-iphone-15-pro_qa_09',\n",
       "   'question': 'Camera sau của Điện thoại iPhone 15 Pro 128GB có tính năng gì?',\n",
       "   'question_category': 'thông số kỹ thuật',\n",
       "   'short_answer': 'Ảnh Raw, Zoom quang học, Zoom kỹ thuật số, Xóa phông, Trôi nhanh thời gian (Time Lapse), Toàn cảnh (Panorama), Smart HDR 5, Quay Siêu chậm (Super Slow Motion), Quay chậm (Slow Motion), Live Photo, Góc siêu rộng (Ultrawide), Dolby Vision HDR, Deep Fusion, Cinematic, Chống rung quang học (OIS), Chế độ hành động (Action Mode), Bộ lọc màu, Ban đêm (Night Mode)',\n",
       "   'long_answer': 'Camera sau của Điện thoại iPhone 15 Pro 128GB có nhiều tính năng như Ảnh Raw, Zoom quang học, Zoom kỹ thuật số, Xóa phông, Trôi nhanh thời gian (Time Lapse), Toàn cảnh (Panorama), Smart HDR 5, Quay Siêu chậm (Super Slow Motion), Quay chậm (Slow Motion), Live Photo, Góc siêu rộng (Ultrawide), Dolby Vision HDR, Deep Fusion, Cinematic, Chống rung quang học (OIS), Chế độ hành động (Action Mode), Bộ lọc màu, Ban đêm (Night Mode).'},\n",
       "  {'qa_id': 'p_dtdd-iphone-15-pro_qa_10',\n",
       "   'question': 'Hệ điều hành của Điện thoại iPhone 15 Pro 128GB là gì?',\n",
       "   'question_category': 'thông số kỹ thuật',\n",
       "   'short_answer': 'iOS 17',\n",
       "   'long_answer': 'Hệ điều hành của Điện thoại iPhone 15 Pro 128GB là iOS 17.'}]}"
      ]
     },
     "execution_count": 5,
     "metadata": {},
     "output_type": "execute_result"
    }
   ],
   "source": [
    "load_qna_data('dtdd-iphone-15-pro', QNA_DIRS)"
   ]
  },
  {
   "cell_type": "code",
   "execution_count": 6,
   "metadata": {},
   "outputs": [
    {
     "data": {
      "text/plain": [
       "{'product_id': 'dtdd-iphone-15-pro',\n",
       " 'url': 'https://thegioididong.com/dtdd/iphone-15-pro',\n",
       " 'tên sản phẩm': 'Điện thoại iPhone 15 Pro 128GB',\n",
       " 'tất cả màu sắc': ['Titan xanh',\n",
       "  'Titan đen',\n",
       "  'Titan trắng',\n",
       "  'Titan tự nhiên'],\n",
       " 'giá': {'giá hiện tại': '25.990.000₫',\n",
       "  'giá gốc': '28.990.000₫',\n",
       "  'phần trăm giảm giá': '10%',\n",
       "  'khuyến mãi áp dụng đến': 'Giá và khuyến mãi dự kiến áp dụng đến 23:00 | 01/05'},\n",
       " 'thông tin chung': {'Thiết kế': 'Nguyên khối',\n",
       "  'Chất liệu': 'Khung Titan & Mặt lưng kính cường lực',\n",
       "  'Kích thước, khối lượng': 'Dài 146.6 mm - Ngang 70.6 mm - Dày 8.25 mm - Nặng 187 g',\n",
       "  'Thời điểm ra mắt': '09/2023',\n",
       "  'Hãng': 'iPhone (Apple)'},\n",
       " 'thông số kỹ thuật': {'Màn hình': {'Công nghệ màn hình': 'OLED',\n",
       "   'Độ phân giải': 'Super Retina XDR (1179 x 2556 Pixels)',\n",
       "   'Màn hình rộng': '6.1 inch - Tần số quét 120 Hz',\n",
       "   'Độ sáng tối đa': '2000 nits',\n",
       "   'Mặt kính cảm ứng': 'Kính cường lực Ceramic Shield'},\n",
       "  'Camera sau': {'Độ phân giải': 'Chính 48 MP & Phụ 12 MP, 12 MP',\n",
       "   'Quay phim': ['HD 720p@30fps',\n",
       "    'FullHD 1080p@60fps',\n",
       "    'FullHD 1080p@24fps',\n",
       "    '4K 2160p@60fps',\n",
       "    '4K 2160p@30fps',\n",
       "    '4K 2160p@24fps'],\n",
       "   'Đèn Flash': 'Có',\n",
       "   'Tính năng': ['Ảnh Raw',\n",
       "    'Zoom quang học',\n",
       "    'Zoom kỹ thuật số',\n",
       "    'Xóa phông',\n",
       "    'Trôi nhanh thời gian (Time Lapse)',\n",
       "    'Toàn cảnh (Panorama)',\n",
       "    'Smart HDR 5',\n",
       "    'Quay Siêu chậm (Super Slow Motion)',\n",
       "    'Quay chậm (Slow Motion)',\n",
       "    'Live Photo',\n",
       "    'Góc siêu rộng (Ultrawide)',\n",
       "    'Dolby Vision HDR',\n",
       "    'Deep Fusion',\n",
       "    'Cinematic',\n",
       "    'Chống rung quang học (OIS)',\n",
       "    'Chế độ hành động (Action Mode)',\n",
       "    'Bộ lọc màu',\n",
       "    'Ban đêm (Night Mode)']},\n",
       "  'Camera trước': {'Độ phân giải': '12 MP',\n",
       "   'Tính năng': ['Smart HDR 5',\n",
       "    'Xóa phông',\n",
       "    'Trôi nhanh thời gian (Time Lapse)',\n",
       "    'Quay video Full HD',\n",
       "    'Quay video 4K',\n",
       "    'Nhãn dán (AR Stickers)',\n",
       "    'Live Photo',\n",
       "    'Chụp đêm',\n",
       "    'Bộ lọc màu']},\n",
       "  'Hệ điều hành & CPU': {'Hệ điều hành': 'iOS 17',\n",
       "   'Chip xử lý (CPU)': 'Apple A17 Pro 6 nhân',\n",
       "   'Tốc độ CPU': '3.78 GHz',\n",
       "   'Chip đồ họa (GPU)': 'Apple GPU 6 nhân'},\n",
       "  'Bộ nhớ & Lưu trữ': {'RAM': '8 GB',\n",
       "   'Dung lượng lưu trữ': '128 GB',\n",
       "   'Danh bạ': 'Không giới hạn'},\n",
       "  'Kết nối': {'Mạng di động': 'Hỗ trợ 5G',\n",
       "   'SIM': '1 Nano SIM & 1 eSIM',\n",
       "   'Wifi': ['Wi-Fi MIMO', 'Có', '6 GHz'],\n",
       "   'GPS': ['QZSS', 'NavIC', 'GLONASS', 'GALILEO', 'Có'],\n",
       "   'Bluetooth': 'v5.3',\n",
       "   'Cổng kết nối/sạc': 'Type-C',\n",
       "   'Jack tai nghe': 'Type-C',\n",
       "   'Kết nối khác': 'NFC'},\n",
       "  'Pin & Sạc': {'Dung lượng pin': '3274 mAh',\n",
       "   'Loại pin': 'Li-Ion',\n",
       "   'Hỗ trợ sạc tối đa': '20 W',\n",
       "   'Công nghệ pin': ['Tiết kiệm pin',\n",
       "    'Sạc không dây MagSafe',\n",
       "    'Sạc không dây']}},\n",
       " 'tiện ích': {'Bảo mật nâng cao': 'Mở khoá khuôn mặt Face ID',\n",
       "  'Tính năng đặc biệt': 'Phát hiện va chạm (Crash Detection)\\nMàn hình luôn hiển thị AOD',\n",
       "  'Kháng nước, bụi': 'IP68',\n",
       "  'Ghi âm': 'Ghi âm mặc định',\n",
       "  'Xem phim': 'Có',\n",
       "  'Nghe nhạc': 'Có'},\n",
       " 'đánh giá': {'điểm đánh giá trung bình': '4.9', 'số lượng đánh giá': '15'}}"
      ]
     },
     "execution_count": 6,
     "metadata": {},
     "output_type": "execute_result"
    }
   ],
   "source": [
    "load_product_data('dtdd-iphone-15-pro', PRODUCT_DATA_PATHS)"
   ]
  },
  {
   "cell_type": "markdown",
   "metadata": {},
   "source": [
    "# Linearize the Table and Question"
   ]
  },
  {
   "cell_type": "code",
   "execution_count": 7,
   "metadata": {},
   "outputs": [],
   "source": [
    "#setup\n",
    "import json\n",
    "import logging\n",
    "import os\n",
    "import re\n",
    "import sys\n",
    "\n",
    "# import nltk  # Here to have a nice missing dependency error message early on\n",
    "import numpy as np\n",
    "\n",
    "def concat_linearize_table_context(table_array, question):\n",
    "    return question+(' '.join([' '.join(row) for row in table_array]))\n",
    "\n",
    "\n",
    "def default_linearize_table_context(table_array, question):\n",
    "    return '[CLS]'+question+'[CLS]'+('[SEP]'.join([' '.join(row) for row in table_array]))\n",
    "\n",
    "def sample_linearize_table_context(table_array, question):\n",
    "    sample_len = 21\n",
    "    simple_lin = '[CLS]'+question+'[CLS]'+('[SEP]'.join([' '.join(row) for row in table_array]))\n",
    "    if len(table_array) >= sample_len:\n",
    "        mask = np.zeros(len(table_array)-1, dtype=int)\n",
    "        mask[:sample_len] = 1\n",
    "        np.random.shuffle(mask)\n",
    "        mask = mask.astype(bool)\n",
    "\n",
    "        lin = '[CLS]'+question+'[CLS]'+ ' '.join(table_array[0])\n",
    "        sampled_rows = [row for boo, row in zip(mask,table_array[1:]) if boo]\n",
    "        lin += '[SEP]'.join([' '.join(row) for row in sampled_rows])\n",
    "        return lin\n",
    "\n",
    "    return simple_lin\n",
    "\n",
    "linearization_dic = {\n",
    "    'simple':default_linearize_table_context,\n",
    "    'sample':sample_linearize_table_context,\n",
    "    'concat':concat_linearize_table_context\n",
    "}\n",
    "def save_json(content, path, indent=4, **json_dump_kwargs):\n",
    "    with open(path, \"w\") as f:\n",
    "        json.dump(content, f, indent=indent, sort_keys=True, **json_dump_kwargs)"
   ]
  },
  {
   "cell_type": "code",
   "execution_count": 3,
   "metadata": {},
   "outputs": [],
   "source": [
    "qa_json = 'save/data-synthesis/qna_dtdd__1_20apq_1/20240406/qna_dtdd-iphone-14-pro-max_20240406_195933.json'"
   ]
  },
  {
   "cell_type": "code",
   "execution_count": null,
   "metadata": {},
   "outputs": [],
   "source": [
    "import json\n",
    "\n",
    "# Load the JSON data\n",
    "with open(qa_json, 'r', encoding='utf-8') as file:\n",
    "    qa_data = json.load(file)\n",
    "\n",
    "qa_data"
   ]
  },
  {
   "cell_type": "code",
   "execution_count": 5,
   "metadata": {},
   "outputs": [],
   "source": [
    "product_data_json = 'save/output-scraping-tgdd/product_data/phone_products_20240406_203410.json'"
   ]
  },
  {
   "cell_type": "code",
   "execution_count": null,
   "metadata": {},
   "outputs": [],
   "source": [
    "def "
   ]
  },
  {
   "cell_type": "code",
   "execution_count": 173,
   "metadata": {},
   "outputs": [],
   "source": []
  },
  {
   "cell_type": "code",
   "execution_count": null,
   "metadata": {},
   "outputs": [],
   "source": [
    "get_product_data"
   ]
  },
  {
   "cell_type": "code",
   "execution_count": 174,
   "metadata": {},
   "outputs": [
    {
     "name": "stdout",
     "output_type": "stream",
     "text": [
      "phone\n",
      "save/output-scraping-tgdd/product_data/phone_products_20240406_203410.json\n",
      "dict_keys(['dtdd-iphone-15-pro-max', 'dtdd-iphone-15-pro', 'dtdd-iphone-15-plus', 'dtdd-iphone-15', 'dtdd-samsung-galaxy-s24-256gb-5g', 'dtdd-samsung-galaxy-s24-plus-5g', 'dtdd-samsung-galaxy-s24-ultra-5g', 'dtdd-xiaomi-14', 'dtdd-xiaomi-redmi-note-13-pro-8-256', 'dtdd-oppo-reno11', 'dtdd-vivo-y03', 'dtdd-realme-note-50-64gb', 'dtdd-iphone-13', 'dtdd-xiaomi-redmi-note-13', 'dtdd-realme-c55', 'dtdd-iphone-11', 'dtdd-oppo-reno11-f-5g', 'dtdd-realme-c67', 'dtdd-realme-11', 'dtdd-samsung-galaxy-s23-fe', 'dtdd-iphone-12', 'dtdd-samsung-galaxy-a25-8gb', 'dtdd-realme-c53', 'dtdd-oppo-a18', 'dtdd-iphone-14-pro-max', 'dtdd-oppo-a38-6gb', 'dtdd-oppo-a57-128gb', 'dtdd-vivo-y17s', 'dtdd-vivo-y36-128gb', 'dtdd-oppo-reno11-pro', 'dtdd-realme-c30s-3gb-64gb', 'dtdd-xiaomi-redmi-note-13-pro-5g', 'dtdd-samsung-galaxy-a15-5g', 'dtdd-oppo-reno10', 'dtdd-samsung-galaxy-s23-ultra', 'dtdd-oppo-reno10-pro', 'dtdd-oppo-reno10-pro-plus', 'dtdd-xiaomi-redmi-note-13-pro-plus', 'dtdd-oppo-reno8-t', 'dtdd-realme-c51', 'dtdd-oppo-find-n3', 'dtdd-samsung-galaxy-z-fold5', 'dtdd-iphone-14-pro-256gb', 'dtdd-oppo-find-n3-flip-hong', 'dtdd-xiaomi-14-5g-256', 'dtdd-iphone-14-plus', 'dtdd-iphone-14', 'dtdd-samsung-galaxy-z-flip5', 'dtdd-oppo-find-n2-flip', 'dtdd-realme-11-pro-plus-5g', 'dtdd-samsung-galaxy-s23-fe-5g-256gb', 'dtdd-xiaomi-13t-pro', 'dtdd-vivo-v29-5g', 'dtdd-realme-11-pro', 'dtdd-xiaomi-13t', 'dtdd-vivo-v29e-5g', 'dtdd-samsung-galaxy-m54', 'dtdd-oppo-reno8-t-5g-256gb', 'dtdd-vivo-v27e', 'dtdd-samsung-galaxy-a54-5g-128gb', 'dtdd-oppo-a79-5g', 'dtdd-vivo-y35-2022', 'dtdd-oppo-a98-5g', 'dtdd-oppo-a78', 'dtdd-samsung-galaxy-a34', 'dtdd-samsung-galaxy-m34-5g', 'dtdd-realme-10', 'dtdd-honor-x7b', 'dtdd-oppo-a58-4g', 'dtdd-samsung-galaxy-a15-256gb', 'dtdd-samsung-galaxy-a24', 'dtdd-samsung-galaxy-a14-5g', 'dtdd-samsung-galaxy-a05s-6gb', 'dtdd-samsung-galaxy-a04-4gb-64gb', 'dtdd-samsung-galaxy-a05', 'dtdd-xiaomi-redmi-12-4gb', 'dtdd-oppo-a17k', 'dtdd-vivo-y02t', 'dtdd-realme-c60', 'dtdd-xiaomi-redmi-13c', 'dtdd-honor-x5-plus', 'dtdd-itel-l6502', 'dtdd-xiaomi-redmi-a2-plus', 'dtdd-nokia-8210-4g', 'dtdd-nokia-215', 'dtdd-mobell-f309', 'dtdd-nokia-110-4g-pro', 'dtdd-masstel-fami-60', 'dtdd-mobell-rock-4', 'dtdd-nokia-105-4g-pro', 'dtdd-nokia-105-4g', 'dtdd-mobell-m539', 'dtdd-mobell-f209', 'dtdd-itel-it9210', 'dtdd-masstel-lux-10', 'dtdd-mobell-m331', 'dtdd-itel-it9010', 'dtdd-masstel-izi-10', 'dtdd-mobell-m239'])\n"
     ]
    }
   ],
   "source": [
    "all_dataset = []\n",
    "    \n",
    "\n",
    "for product_type, product_data_path in PRODUCT_DATA_PATHS.items():\n",
    "    print(product_type), print(product_data_path)\n",
    "\n",
    "    qna_path_mapping = get_qna_mapping(QNA_DIRS[product_type])\n",
    "    print(qna_path_mapping.keys())\n",
    "\n",
    "    product_data_dict = get_product_data(product_data_path)\n",
    "\n",
    "    # product_data_dict\n",
    "\n",
    "    for product_id, product_info in product_data_dict.items():\n",
    "            # Load Q&A data\n",
    "            qna_dir = QNA_DIRS[product_type]\n",
    "            # print(qna_dir)\n",
    "\n",
    "            if product_id in qna_path_mapping:\n",
    "\n",
    "                qna_filepath = qna_path_mapping[product_id]\n",
    "                if os.path.exists(qna_filepath):\n",
    "                    with open(qna_filepath, 'r', encoding='utf-8') as qna_file:\n",
    "                        qna_data = json.load(qna_file)\n",
    "                        for qa_pair in qna_data.get('questions', []):\n",
    "                            qa_pair['table'] = product_info  # Add product_data to the qa_pair\n",
    "                            all_dataset.append(qa_pair)\n",
    "\n",
    "            break\n",
    "\n",
    "    break\n",
    "    "
   ]
  },
  {
   "cell_type": "code",
   "execution_count": 160,
   "metadata": {},
   "outputs": [
    {
     "data": {
      "text/plain": [
       "2683"
      ]
     },
     "execution_count": 160,
     "metadata": {},
     "output_type": "execute_result"
    }
   ],
   "source": [
    "len(all_dataset)"
   ]
  },
  {
   "cell_type": "code",
   "execution_count": 161,
   "metadata": {},
   "outputs": [
    {
     "data": {
      "text/plain": [
       "2683"
      ]
     },
     "execution_count": 161,
     "metadata": {},
     "output_type": "execute_result"
    }
   ],
   "source": [
    "len(all_dataset)"
   ]
  },
  {
   "cell_type": "code",
   "execution_count": 162,
   "metadata": {},
   "outputs": [
    {
     "name": "stdout",
     "output_type": "stream",
     "text": [
      "Number of records in all_dataset: 2683\n"
     ]
    }
   ],
   "source": [
    "# Save the all_dataset JSON to a file\n",
    "with open('save/phone_all_dataset.json', 'w', encoding='utf-8') as output_file:\n",
    "    json.dump(all_dataset, output_file, ensure_ascii=False, indent=4)\n",
    "\n",
    "# Display the number of records in all_dataset\n",
    "print(\"Number of records in all_dataset:\", len(all_dataset))"
   ]
  },
  {
   "cell_type": "code",
   "execution_count": 163,
   "metadata": {},
   "outputs": [
    {
     "name": "stderr",
     "output_type": "stream",
     "text": [
      "  0%|          | 0/260 [00:00<?, ?it/s]\n"
     ]
    },
    {
     "ename": "KeyError",
     "evalue": "'laptop-asus-vivobook-go-15-e1504fa-r5-nj776w'",
     "output_type": "error",
     "traceback": [
      "\u001b[1;31m---------------------------------------------------------------------------\u001b[0m",
      "\u001b[1;31mKeyError\u001b[0m                                  Traceback (most recent call last)",
      "Cell \u001b[1;32mIn[163], line 6\u001b[0m\n\u001b[0;32m      1\u001b[0m product_qna_triple \u001b[38;5;241m=\u001b[39m []\n\u001b[0;32m      3\u001b[0m \u001b[38;5;28;01mfor\u001b[39;00m product_id, product_data \u001b[38;5;129;01min\u001b[39;00m tqdm(product_data_dict\u001b[38;5;241m.\u001b[39mitems()):\n\u001b[0;32m      4\u001b[0m     \u001b[38;5;66;03m# print(product_id)\u001b[39;00m\n\u001b[1;32m----> 6\u001b[0m     qna \u001b[38;5;241m=\u001b[39m \u001b[43mload_qna_data\u001b[49m\u001b[43m(\u001b[49m\u001b[43mproduct_id\u001b[49m\u001b[43m,\u001b[49m\u001b[43m \u001b[49m\u001b[43mphone_qna_path_mapping\u001b[49m\u001b[43m)\u001b[49m\n\u001b[0;32m      7\u001b[0m     \u001b[38;5;66;03m# print(qna)\u001b[39;00m\n\u001b[0;32m      9\u001b[0m     \u001b[38;5;28;01mif\u001b[39;00m qna:\n",
      "Cell \u001b[1;32mIn[58], line 2\u001b[0m, in \u001b[0;36mload_qna_data\u001b[1;34m(product_id, qna_path_mapping)\u001b[0m\n\u001b[0;32m      1\u001b[0m \u001b[38;5;28;01mdef\u001b[39;00m \u001b[38;5;21mload_qna_data\u001b[39m(product_id, qna_path_mapping):\n\u001b[1;32m----> 2\u001b[0m     qna_file_path \u001b[38;5;241m=\u001b[39m \u001b[43mqna_path_mapping\u001b[49m\u001b[43m[\u001b[49m\u001b[43mproduct_id\u001b[49m\u001b[43m]\u001b[49m\n\u001b[0;32m      3\u001b[0m     \u001b[38;5;28;01mif\u001b[39;00m os\u001b[38;5;241m.\u001b[39mpath\u001b[38;5;241m.\u001b[39mexists(qna_file_path):\n\u001b[0;32m      4\u001b[0m         \u001b[38;5;28;01mwith\u001b[39;00m \u001b[38;5;28mopen\u001b[39m(qna_file_path, \u001b[38;5;124m'\u001b[39m\u001b[38;5;124mr\u001b[39m\u001b[38;5;124m'\u001b[39m, encoding\u001b[38;5;241m=\u001b[39m\u001b[38;5;124m'\u001b[39m\u001b[38;5;124mutf-8\u001b[39m\u001b[38;5;124m'\u001b[39m) \u001b[38;5;28;01mas\u001b[39;00m qna_file:\n",
      "\u001b[1;31mKeyError\u001b[0m: 'laptop-asus-vivobook-go-15-e1504fa-r5-nj776w'"
     ]
    }
   ],
   "source": [
    "product_qna_triple = []\n",
    "\n",
    "for product_id, product_data in tqdm(product_data_dict.items()):\n",
    "    # print(product_id)\n",
    "\n",
    "    qna = load_qna_data(product_id, phone_qna_path_mapping)\n",
    "    # print(qna)\n",
    "\n",
    "    if qna:\n",
    "        for qa_pair in qna:\n",
    "            # Add product data and QA pair to the list\n",
    "            product_qna_triple.append({\n",
    "                'product_data': product_data,\n",
    "                'question': qa_pair['question'],\n",
    "                'answer': qa_pair.get('short_answer', qa_pair.get('long_answer', ''))\n",
    "            })\n",
    "\n"
   ]
  },
  {
   "cell_type": "code",
   "execution_count": 72,
   "metadata": {},
   "outputs": [
    {
     "data": {
      "text/plain": [
       "1488"
      ]
     },
     "execution_count": 72,
     "metadata": {},
     "output_type": "execute_result"
    }
   ],
   "source": [
    "len(product_qna_triple)"
   ]
  },
  {
   "cell_type": "code",
   "execution_count": 76,
   "metadata": {},
   "outputs": [
    {
     "data": {
      "text/plain": [
       "'29.990.000₫'"
      ]
     },
     "execution_count": 76,
     "metadata": {},
     "output_type": "execute_result"
    }
   ],
   "source": [
    "product_qna_triple[1]['answer']"
   ]
  },
  {
   "cell_type": "code",
   "execution_count": 81,
   "metadata": {},
   "outputs": [],
   "source": [
    "product_data_paths = PRODUCT_DATA_PATHS['phone']"
   ]
  },
  {
   "cell_type": "code",
   "execution_count": 133,
   "metadata": {},
   "outputs": [
    {
     "ename": "JSONDecodeError",
     "evalue": "Extra data: line 2 column 1 (char 2808)",
     "output_type": "error",
     "traceback": [
      "\u001b[1;31m---------------------------------------------------------------------------\u001b[0m",
      "\u001b[1;31mJSONDecodeError\u001b[0m                           Traceback (most recent call last)",
      "Cell \u001b[1;32mIn[133], line 39\u001b[0m\n\u001b[0;32m     36\u001b[0m         \u001b[38;5;66;03m# break\u001b[39;00m\n\u001b[0;32m     37\u001b[0m     \u001b[38;5;28;01mreturn\u001b[39;00m all_dataset\n\u001b[1;32m---> 39\u001b[0m all_dataset \u001b[38;5;241m=\u001b[39m \u001b[43mbuild_all_dataset\u001b[49m\u001b[43m(\u001b[49m\u001b[43mPRODUCT_DATA_PATHS\u001b[49m\u001b[43m,\u001b[49m\u001b[43m \u001b[49m\u001b[43mQNA_DIRS\u001b[49m\u001b[43m)\u001b[49m\n",
      "Cell \u001b[1;32mIn[133], line 23\u001b[0m, in \u001b[0;36mbuild_all_dataset\u001b[1;34m(product_data_paths, qna_dirs)\u001b[0m\n\u001b[0;32m     20\u001b[0m \u001b[38;5;28;01mfor\u001b[39;00m product_type, product_data_path \u001b[38;5;129;01min\u001b[39;00m product_data_paths\u001b[38;5;241m.\u001b[39mitems():\n\u001b[0;32m     21\u001b[0m     \u001b[38;5;66;03m# Load product data\u001b[39;00m\n\u001b[0;32m     22\u001b[0m     \u001b[38;5;28;01mwith\u001b[39;00m \u001b[38;5;28mopen\u001b[39m(product_data_path, \u001b[38;5;124m'\u001b[39m\u001b[38;5;124mr\u001b[39m\u001b[38;5;124m'\u001b[39m, encoding\u001b[38;5;241m=\u001b[39m\u001b[38;5;124m'\u001b[39m\u001b[38;5;124mutf-8\u001b[39m\u001b[38;5;124m'\u001b[39m) \u001b[38;5;28;01mas\u001b[39;00m product_file:\n\u001b[1;32m---> 23\u001b[0m         product_data \u001b[38;5;241m=\u001b[39m \u001b[43mjson\u001b[49m\u001b[38;5;241;43m.\u001b[39;49m\u001b[43mload\u001b[49m\u001b[43m(\u001b[49m\u001b[43mproduct_file\u001b[49m\u001b[43m)\u001b[49m\n\u001b[0;32m     25\u001b[0m     \u001b[38;5;66;03m# Iterate over each product in the product data\u001b[39;00m\n\u001b[0;32m     26\u001b[0m     \u001b[38;5;28;01mfor\u001b[39;00m product_id, product_info \u001b[38;5;129;01min\u001b[39;00m product_data\u001b[38;5;241m.\u001b[39mitems():\n\u001b[0;32m     27\u001b[0m         \u001b[38;5;66;03m# Load Q&A data\u001b[39;00m\n",
      "File \u001b[1;32mc:\\Users\\NamFam\\anaconda3\\envs\\env-01\\Lib\\json\\__init__.py:293\u001b[0m, in \u001b[0;36mload\u001b[1;34m(fp, cls, object_hook, parse_float, parse_int, parse_constant, object_pairs_hook, **kw)\u001b[0m\n\u001b[0;32m    274\u001b[0m \u001b[38;5;28;01mdef\u001b[39;00m \u001b[38;5;21mload\u001b[39m(fp, \u001b[38;5;241m*\u001b[39m, \u001b[38;5;28mcls\u001b[39m\u001b[38;5;241m=\u001b[39m\u001b[38;5;28;01mNone\u001b[39;00m, object_hook\u001b[38;5;241m=\u001b[39m\u001b[38;5;28;01mNone\u001b[39;00m, parse_float\u001b[38;5;241m=\u001b[39m\u001b[38;5;28;01mNone\u001b[39;00m,\n\u001b[0;32m    275\u001b[0m         parse_int\u001b[38;5;241m=\u001b[39m\u001b[38;5;28;01mNone\u001b[39;00m, parse_constant\u001b[38;5;241m=\u001b[39m\u001b[38;5;28;01mNone\u001b[39;00m, object_pairs_hook\u001b[38;5;241m=\u001b[39m\u001b[38;5;28;01mNone\u001b[39;00m, \u001b[38;5;241m*\u001b[39m\u001b[38;5;241m*\u001b[39mkw):\n\u001b[0;32m    276\u001b[0m \u001b[38;5;250m    \u001b[39m\u001b[38;5;124;03m\"\"\"Deserialize ``fp`` (a ``.read()``-supporting file-like object containing\u001b[39;00m\n\u001b[0;32m    277\u001b[0m \u001b[38;5;124;03m    a JSON document) to a Python object.\u001b[39;00m\n\u001b[0;32m    278\u001b[0m \n\u001b[1;32m   (...)\u001b[0m\n\u001b[0;32m    291\u001b[0m \u001b[38;5;124;03m    kwarg; otherwise ``JSONDecoder`` is used.\u001b[39;00m\n\u001b[0;32m    292\u001b[0m \u001b[38;5;124;03m    \"\"\"\u001b[39;00m\n\u001b[1;32m--> 293\u001b[0m     \u001b[38;5;28;01mreturn\u001b[39;00m \u001b[43mloads\u001b[49m\u001b[43m(\u001b[49m\u001b[43mfp\u001b[49m\u001b[38;5;241;43m.\u001b[39;49m\u001b[43mread\u001b[49m\u001b[43m(\u001b[49m\u001b[43m)\u001b[49m\u001b[43m,\u001b[49m\n\u001b[0;32m    294\u001b[0m \u001b[43m        \u001b[49m\u001b[38;5;28;43mcls\u001b[39;49m\u001b[38;5;241;43m=\u001b[39;49m\u001b[38;5;28;43mcls\u001b[39;49m\u001b[43m,\u001b[49m\u001b[43m \u001b[49m\u001b[43mobject_hook\u001b[49m\u001b[38;5;241;43m=\u001b[39;49m\u001b[43mobject_hook\u001b[49m\u001b[43m,\u001b[49m\n\u001b[0;32m    295\u001b[0m \u001b[43m        \u001b[49m\u001b[43mparse_float\u001b[49m\u001b[38;5;241;43m=\u001b[39;49m\u001b[43mparse_float\u001b[49m\u001b[43m,\u001b[49m\u001b[43m \u001b[49m\u001b[43mparse_int\u001b[49m\u001b[38;5;241;43m=\u001b[39;49m\u001b[43mparse_int\u001b[49m\u001b[43m,\u001b[49m\n\u001b[0;32m    296\u001b[0m \u001b[43m        \u001b[49m\u001b[43mparse_constant\u001b[49m\u001b[38;5;241;43m=\u001b[39;49m\u001b[43mparse_constant\u001b[49m\u001b[43m,\u001b[49m\u001b[43m \u001b[49m\u001b[43mobject_pairs_hook\u001b[49m\u001b[38;5;241;43m=\u001b[39;49m\u001b[43mobject_pairs_hook\u001b[49m\u001b[43m,\u001b[49m\u001b[43m \u001b[49m\u001b[38;5;241;43m*\u001b[39;49m\u001b[38;5;241;43m*\u001b[39;49m\u001b[43mkw\u001b[49m\u001b[43m)\u001b[49m\n",
      "File \u001b[1;32mc:\\Users\\NamFam\\anaconda3\\envs\\env-01\\Lib\\json\\__init__.py:346\u001b[0m, in \u001b[0;36mloads\u001b[1;34m(s, cls, object_hook, parse_float, parse_int, parse_constant, object_pairs_hook, **kw)\u001b[0m\n\u001b[0;32m    341\u001b[0m     s \u001b[38;5;241m=\u001b[39m s\u001b[38;5;241m.\u001b[39mdecode(detect_encoding(s), \u001b[38;5;124m'\u001b[39m\u001b[38;5;124msurrogatepass\u001b[39m\u001b[38;5;124m'\u001b[39m)\n\u001b[0;32m    343\u001b[0m \u001b[38;5;28;01mif\u001b[39;00m (\u001b[38;5;28mcls\u001b[39m \u001b[38;5;129;01mis\u001b[39;00m \u001b[38;5;28;01mNone\u001b[39;00m \u001b[38;5;129;01mand\u001b[39;00m object_hook \u001b[38;5;129;01mis\u001b[39;00m \u001b[38;5;28;01mNone\u001b[39;00m \u001b[38;5;129;01mand\u001b[39;00m\n\u001b[0;32m    344\u001b[0m         parse_int \u001b[38;5;129;01mis\u001b[39;00m \u001b[38;5;28;01mNone\u001b[39;00m \u001b[38;5;129;01mand\u001b[39;00m parse_float \u001b[38;5;129;01mis\u001b[39;00m \u001b[38;5;28;01mNone\u001b[39;00m \u001b[38;5;129;01mand\u001b[39;00m\n\u001b[0;32m    345\u001b[0m         parse_constant \u001b[38;5;129;01mis\u001b[39;00m \u001b[38;5;28;01mNone\u001b[39;00m \u001b[38;5;129;01mand\u001b[39;00m object_pairs_hook \u001b[38;5;129;01mis\u001b[39;00m \u001b[38;5;28;01mNone\u001b[39;00m \u001b[38;5;129;01mand\u001b[39;00m \u001b[38;5;129;01mnot\u001b[39;00m kw):\n\u001b[1;32m--> 346\u001b[0m     \u001b[38;5;28;01mreturn\u001b[39;00m \u001b[43m_default_decoder\u001b[49m\u001b[38;5;241;43m.\u001b[39;49m\u001b[43mdecode\u001b[49m\u001b[43m(\u001b[49m\u001b[43ms\u001b[49m\u001b[43m)\u001b[49m\n\u001b[0;32m    347\u001b[0m \u001b[38;5;28;01mif\u001b[39;00m \u001b[38;5;28mcls\u001b[39m \u001b[38;5;129;01mis\u001b[39;00m \u001b[38;5;28;01mNone\u001b[39;00m:\n\u001b[0;32m    348\u001b[0m     \u001b[38;5;28mcls\u001b[39m \u001b[38;5;241m=\u001b[39m JSONDecoder\n",
      "File \u001b[1;32mc:\\Users\\NamFam\\anaconda3\\envs\\env-01\\Lib\\json\\decoder.py:340\u001b[0m, in \u001b[0;36mJSONDecoder.decode\u001b[1;34m(self, s, _w)\u001b[0m\n\u001b[0;32m    338\u001b[0m end \u001b[38;5;241m=\u001b[39m _w(s, end)\u001b[38;5;241m.\u001b[39mend()\n\u001b[0;32m    339\u001b[0m \u001b[38;5;28;01mif\u001b[39;00m end \u001b[38;5;241m!=\u001b[39m \u001b[38;5;28mlen\u001b[39m(s):\n\u001b[1;32m--> 340\u001b[0m     \u001b[38;5;28;01mraise\u001b[39;00m JSONDecodeError(\u001b[38;5;124m\"\u001b[39m\u001b[38;5;124mExtra data\u001b[39m\u001b[38;5;124m\"\u001b[39m, s, end)\n\u001b[0;32m    341\u001b[0m \u001b[38;5;28;01mreturn\u001b[39;00m obj\n",
      "\u001b[1;31mJSONDecodeError\u001b[0m: Extra data: line 2 column 1 (char 2808)"
     ]
    }
   ],
   "source": [
    "import os\n",
    "import json\n",
    "\n",
    "PRODUCT_DATA_PATHS = {\n",
    "    'phone': 'save/output-scraping-tgdd/product_data/phone_products_20240406_203410.json',\n",
    "    'tablet': 'save/output-scraping-tgdd/product_data/tablet_products_20240406_211406.json',\n",
    "    'laptop': 'save/output-scraping-tgdd/product_data/laptop_products_20240407_113058.json'\n",
    "}\n",
    "\n",
    "QNA_DIRS = {\n",
    "    'phone': 'save/data-synthesis/qna_dtdd__1_20apq_1/20240406',\n",
    "    'tablet': 'save/data-synthesis/qna_tablet_1_20apq/20240407',\n",
    "    'laptop': 'save/data-synthesis/qna_laptop_1_20apq/20240407'\n",
    "}\n",
    "\n",
    "def build_all_dataset(product_data_paths, qna_dirs):\n",
    "    all_dataset = []\n",
    "    \n",
    "    # Iterate over each product type\n",
    "    for product_type, product_data_path in product_data_paths.items():\n",
    "        # Load product data\n",
    "        with open(product_data_path, 'r', encoding='utf-8') as product_file:\n",
    "            product_data = json.load(product_file)\n",
    "        \n",
    "        # Iterate over each product in the product data\n",
    "        for product_id, product_info in product_data.items():\n",
    "            # Load Q&A data\n",
    "            qna_dir = qna_dirs[product_type]\n",
    "            qna_filepath = os.path.join(qna_dir, f\"qna_{product_id}.json\")\n",
    "            if os.path.exists(qna_filepath):\n",
    "                with open(qna_filepath, 'r', encoding='utf-8') as qna_file:\n",
    "                    qna_data = json.load(qna_file)\n",
    "                    for qa_pair in qna_data.get('questions', []):\n",
    "                        qa_pair['table'] = product_info  # Add product_data to the qa_pair\n",
    "                        all_dataset.append(qa_pair)\n",
    "        # break\n",
    "    return all_dataset\n",
    "\n",
    "all_dataset = build_all_dataset(PRODUCT_DATA_PATHS, QNA_DIRS)"
   ]
  },
  {
   "cell_type": "code",
   "execution_count": 132,
   "metadata": {},
   "outputs": [
    {
     "data": {
      "text/plain": [
       "1488"
      ]
     },
     "execution_count": 132,
     "metadata": {},
     "output_type": "execute_result"
    }
   ],
   "source": [
    "len(all_dataset)"
   ]
  },
  {
   "cell_type": "code",
   "execution_count": 131,
   "metadata": {},
   "outputs": [
    {
     "data": {
      "text/plain": [
       "{'qa_id': 'p_dtdd-iphone-15-pro-max_qa_01',\n",
       " 'question': 'Điện thoại iPhone 15 Pro Max 256GB có thiết kế như thế nào?',\n",
       " 'question_category': 'thông tin chung',\n",
       " 'short_answer': 'Nguyên khối',\n",
       " 'long_answer': 'Điện thoại iPhone 15 Pro Max 256GB có thiết kế nguyên khối với khung Titan & mặt lưng kính cường lực.',\n",
       " 'table': {'product_id': 'dtdd-iphone-15-pro-max',\n",
       "  'url': 'https://thegioididong.com/dtdd/iphone-15-pro-max',\n",
       "  'tên sản phẩm': 'Điện thoại iPhone 15 Pro Max 256GB',\n",
       "  'tất cả màu sắc': ['Titan xanh',\n",
       "   'Titan đen',\n",
       "   'Titan tự nhiên',\n",
       "   'Titan trắng'],\n",
       "  'giá': {'giá hiện tại': '29.990.000₫',\n",
       "   'giá gốc': '34.990.000₫',\n",
       "   'phần trăm giảm giá': '14%',\n",
       "   'khuyến mãi áp dụng đến': 'Giá và khuyến mãi dự kiến áp dụng đến 23:00 | 01/05'},\n",
       "  'thông tin chung': {'Thiết kế': 'Nguyên khối',\n",
       "   'Chất liệu': 'Khung Titan & Mặt lưng kính cường lực',\n",
       "   'Kích thước, khối lượng': 'Dài 159.9 mm - Ngang 76.7 mm - Dày 8.25 mm - Nặng 221 g',\n",
       "   'Thời điểm ra mắt': '09/2023',\n",
       "   'Hãng': 'iPhone (Apple)'},\n",
       "  'thông số kỹ thuật': {'Màn hình': {'Công nghệ màn hình': 'OLED',\n",
       "    'Độ phân giải': 'Super Retina XDR (1290 x 2796 Pixels)',\n",
       "    'Màn hình rộng': '6.7 inch - Tần số quét 120 Hz',\n",
       "    'Độ sáng tối đa': '2000 nits',\n",
       "    'Mặt kính cảm ứng': 'Kính cường lực Ceramic Shield'},\n",
       "   'Camera sau': {'Độ phân giải': 'Chính 48 MP & Phụ 12 MP, 12 MP',\n",
       "    'Quay phim': ['HD 720p@30fps',\n",
       "     'FullHD 1080p@60fps',\n",
       "     'FullHD 1080p@30fps',\n",
       "     '4K 2160p@60fps',\n",
       "     '4K 2160p@30fps'],\n",
       "    'Đèn Flash': 'Có',\n",
       "    'Tính năng': ['Ảnh Raw',\n",
       "     'Zoom quang học',\n",
       "     'Zoom kỹ thuật số',\n",
       "     'Xóa phông',\n",
       "     'Trôi nhanh thời gian (Time Lapse)',\n",
       "     'Toàn cảnh (Panorama)',\n",
       "     'Smart HDR 5',\n",
       "     'Siêu độ phân giải',\n",
       "     'Quay chậm (Slow Motion)',\n",
       "     'Live Photo',\n",
       "     'Góc siêu rộng (Ultrawide)',\n",
       "     'Góc rộng (Wide)',\n",
       "     'Dolby Vision HDR',\n",
       "     'Deep Fusion',\n",
       "     'Cinematic',\n",
       "     'Chống rung quang học (OIS)',\n",
       "     'Bộ lọc màu',\n",
       "     'Ban đêm (Night Mode)']},\n",
       "   'Camera trước': {'Độ phân giải': '12 MP',\n",
       "    'Tính năng': ['Smart HDR 5',\n",
       "     'Xóa phông',\n",
       "     'Trôi nhanh thời gian (Time Lapse)',\n",
       "     'Quay video HD',\n",
       "     'Quay video Full HD',\n",
       "     'Quay video 4K',\n",
       "     'Nhãn dán (AR Stickers)',\n",
       "     'Live Photo',\n",
       "     'Chụp đêm',\n",
       "     'Bộ lọc màu']},\n",
       "   'Hệ điều hành & CPU': {'Hệ điều hành': 'iOS 17',\n",
       "    'Chip xử lý (CPU)': 'Apple A17 Pro 6 nhân',\n",
       "    'Tốc độ CPU': '3.78 GHz',\n",
       "    'Chip đồ họa (GPU)': 'Apple GPU 6 nhân'},\n",
       "   'Bộ nhớ & Lưu trữ': {'RAM': '8 GB',\n",
       "    'Dung lượng lưu trữ': '256 GB',\n",
       "    'Danh bạ': 'Không giới hạn'},\n",
       "   'Kết nối': {'Mạng di động': 'Hỗ trợ 5G',\n",
       "    'SIM': '1 Nano SIM & 1 eSIM',\n",
       "    'Wifi': ['Wi-Fi MIMO', 'Wi-Fi 802.11 a/b/g/n/ac/ax', '6 GHz'],\n",
       "    'GPS': ['QZSS', 'NavIC', 'GPS', 'GLONASS', 'GALILEO', 'BEIDOU'],\n",
       "    'Bluetooth': 'v5.3',\n",
       "    'Cổng kết nối/sạc': 'Type-C',\n",
       "    'Jack tai nghe': 'Type-C'},\n",
       "   'Pin & Sạc': {'Dung lượng pin': '4422 mAh',\n",
       "    'Loại pin': 'Li-Ion',\n",
       "    'Hỗ trợ sạc tối đa': '20 W',\n",
       "    'Công nghệ pin': ['Tiết kiệm pin',\n",
       "     'Sạc ngược không dây',\n",
       "     'Sạc không dây MagSafe']}},\n",
       "  'tiện ích': {'Bảo mật nâng cao': 'Mở khoá khuôn mặt Face ID',\n",
       "   'Tính năng đặc biệt': 'Phát hiện va chạm (Crash Detection)\\nMàn hình luôn hiển thị AOD',\n",
       "   'Kháng nước, bụi': 'IP68',\n",
       "   'Ghi âm': 'Ghi âm mặc định',\n",
       "   'Xem phim': 'H.264(MPEG4-AVC)',\n",
       "   'Nghe nhạc': ['MP3', 'FLAC', 'AAC']},\n",
       "  'đánh giá': {'điểm đánh giá trung bình': '4.3', 'số lượng đánh giá': '94'}}}"
      ]
     },
     "execution_count": 131,
     "metadata": {},
     "output_type": "execute_result"
    }
   ],
   "source": [
    "all_dataset[0]"
   ]
  },
  {
   "cell_type": "code",
   "execution_count": 109,
   "metadata": {},
   "outputs": [
    {
     "data": {
      "text/plain": [
       "20"
      ]
     },
     "execution_count": 109,
     "metadata": {},
     "output_type": "execute_result"
    }
   ],
   "source": [
    "filepath = 'save/data-synthesis/qna_dtdd__1_20apq_1/20240406/qna_dtdd-iphone-14_20240406_203116.json'\n",
    "\n",
    "with open(filepath, 'r', encoding='utf-8') as qna_file:\n",
    "                    qna_data = json.load(qna_file)\n",
    "                    qa_count = len(qna_data.get('questions', []))\n",
    "\n",
    "qa_count"
   ]
  },
  {
   "cell_type": "code",
   "execution_count": 110,
   "metadata": {},
   "outputs": [],
   "source": [
    "import os\n",
    "import json\n",
    "\n",
    "QNA_DIRS = {\n",
    "    'phone': 'save/data-synthesis/qna_dtdd__1_20apq_1/20240406',\n",
    "    'tablet': 'save/data-synthesis/qna_tablet_1_20apq/20240407',\n",
    "    'laptop': 'save/data-synthesis/qna_laptop_1_20apq/20240407'\n",
    "}\n",
    "\n",
    "def count_qa_in_files(qna_dirs):\n",
    "    total_qa_count = 0\n",
    "    qa_count_per_file = {}\n",
    "    \n",
    "    # Iterate over each Q&A directory\n",
    "    for product_type, qna_dir in qna_dirs.items():\n",
    "        qa_count_per_file[product_type] = {}\n",
    "        \n",
    "        # Iterate over each Q&A file in the directory\n",
    "        for filename in os.listdir(qna_dir):\n",
    "            if filename.endswith('.json'):\n",
    "                filepath = os.path.join(qna_dir, filename)\n",
    "                with open(filepath, 'r', encoding='utf-8') as qna_file:\n",
    "                    qna_data = json.load(qna_file)\n",
    "                    qa_count = len(qna_data.get('questions', []))\n",
    "                    qa_count_per_file[product_type][filename] = qa_count\n",
    "\n",
    "                    total_qa_count += qa_count\n",
    "    \n",
    "    return total_qa_count, qa_count_per_file\n",
    "\n",
    "# Count the number of QA pairs in each file\n",
    "total_qa_count, qa_counts = count_qa_in_files(QNA_DIRS)\n",
    "\n",
    "# # Display the results\n",
    "# for product_type, counts_per_file in qa_counts.items():\n",
    "#     print(f\"Product Type: {product_type}\")\n",
    "#     for filename, count in counts_per_file.items():\n",
    "#         print(f\"  {filename}: {count} QA pairs\")\n"
   ]
  },
  {
   "cell_type": "code",
   "execution_count": 119,
   "metadata": {},
   "outputs": [
    {
     "data": {
      "text/plain": [
       "dict_values([{'qna_dtdd-iphone-15-pro-max_20240406_194731.json': 15, 'qna_dtdd-iphone-15-pro_20240406_194744.json': 10, 'qna_dtdd-iphone-15-plus_20240406_194800.json': 12, 'qna_dtdd-iphone-15_20240406_194903.json': 19, 'qna_dtdd-samsung-galaxy-s24-256gb-5g_20240406_194922.json': 14, 'qna_dtdd-samsung-galaxy-s24-plus-5g_20240406_194951.json': 20, 'qna_dtdd-samsung-galaxy-s24-ultra-5g_20240406_195009.json': 11, 'qna_dtdd-xiaomi-14_20240406_195222.json': 14, 'qna_dtdd-xiaomi-redmi-note-13-pro-8-256_20240406_195241.json': 10, 'qna_dtdd-oppo-reno11_20240406_195256.json': 10, 'qna_dtdd-vivo-y03_20240406_195311.json': 10, 'qna_dtdd-realme-note-50-64gb_20240406_195327.json': 12, 'qna_dtdd-iphone-13_20240406_195353.json': 20, 'qna_dtdd-xiaomi-redmi-note-13_20240406_195411.json': 12, 'qna_dtdd-realme-c55_20240406_195431.json': 15, 'qna_dtdd-iphone-11_20240406_195448.json': 17, 'qna_dtdd-oppo-reno11-f-5g_20240406_195538.json': 12, 'qna_dtdd-realme-c67_20240406_195636.json': 16, 'qna_dtdd-realme-11_20240406_195725.json': 11, 'qna_dtdd-samsung-galaxy-s23-fe_20240406_195803.json': 25, 'qna_dtdd-iphone-12_20240406_195820.json': 12, 'qna_dtdd-samsung-galaxy-a25-8gb_20240406_195836.json': 10, 'qna_dtdd-realme-c53_20240406_195853.json': 16, 'qna_dtdd-oppo-a18_20240406_195910.json': 12, 'qna_dtdd-iphone-14-pro-max_20240406_195933.json': 20, 'qna_dtdd-oppo-a38-6gb_20240406_195953.json': 13, 'qna_dtdd-oppo-a57-128gb_20240406_200138.json': 15, 'qna_dtdd-vivo-y17s_20240406_200155.json': 10, 'qna_dtdd-vivo-y36-128gb_20240406_200214.json': 15, 'qna_dtdd-oppo-reno11-pro_20240406_200243.json': 20, 'qna_dtdd-realme-c30s-3gb-64gb_20240406_200300.json': 12, 'qna_dtdd-xiaomi-redmi-note-13-pro-5g_20240406_200322.json': 12, 'qna_dtdd-samsung-galaxy-a15-5g_20240406_200341.json': 10, 'qna_dtdd-oppo-reno10_20240406_200356.json': 14, 'qna_dtdd-samsung-galaxy-s23-ultra_20240406_200549.json': 30, 'qna_dtdd-oppo-reno10-pro_20240406_200633.json': 15, 'qna_dtdd-oppo-reno10-pro-plus_20240406_200759.json': 20, 'qna_dtdd-xiaomi-redmi-note-13-pro-plus_20240406_200856.json': 18, 'qna_dtdd-oppo-reno8-t_20240406_200919.json': 18, 'qna_dtdd-realme-c51_20240406_200944.json': 20, 'qna_dtdd-oppo-find-n3_20240406_201244.json': 20, 'qna_dtdd-samsung-galaxy-z-fold5_20240406_201304.json': 12, 'qna_dtdd-iphone-14-pro-256gb_20240406_201325.json': 20, 'qna_dtdd-oppo-find-n3-flip-hong_20240406_201351.json': 12, 'qna_dtdd-xiaomi-14-5g-256_20240406_201419.json': 20, 'qna_dtdd-iphone-14-plus_20240406_202857.json': 10, 'qna_dtdd-xiaomi-14-5g-256_20240406_203025.json': 23, 'qna_dtdd-iphone-14-plus_20240406_203054.json': 20, 'qna_dtdd-iphone-14_20240406_203116.json': 20, 'qna_dtdd-samsung-galaxy-z-flip5_20240406_203131.json': 10, 'qna_dtdd-oppo-find-n2-flip_20240406_203155.json': 19, 'qna_dtdd-realme-11-pro-plus-5g_20240406_203217.json': 16, 'qna_dtdd-samsung-galaxy-s23-fe-5g-256gb_20240406_203239.json': 15, 'qna_dtdd-xiaomi-13t-pro_20240406_203258.json': 15, 'qna_dtdd-vivo-v29-5g_20240406_203319.json': 16, 'qna_dtdd-realme-11-pro_20240406_203336.json': 11, 'qna_dtdd-xiaomi-13t_20240406_203430.json': 12, 'qna_dtdd-vivo-v29e-5g_20240406_203445.json': 10, 'qna_dtdd-samsung-galaxy-m54_20240406_203501.json': 14, 'qna_dtdd-oppo-reno8-t-5g-256gb_20240406_203521.json': 15, 'qna_dtdd-vivo-v27e_20240406_203535.json': 12, 'qna_dtdd-samsung-galaxy-a54-5g-128gb_20240406_203938.json': 20, 'qna_dtdd-oppo-a79-5g_20240406_204002.json': 16, 'qna_dtdd-vivo-y35-2022_20240406_204018.json': 12, 'qna_dtdd-oppo-a98-5g_20240406_204040.json': 12, 'qna_dtdd-oppo-a78_20240406_204056.json': 12, 'qna_dtdd-samsung-galaxy-a34_20240406_204123.json': 10, 'qna_dtdd-samsung-galaxy-m34-5g_20240406_204148.json': 20, 'qna_dtdd-realme-10_20240406_204208.json': 18, 'qna_dtdd-honor-x7b_20240406_204225.json': 12, 'qna_dtdd-oppo-a58-4g_20240406_204242.json': 12, 'qna_dtdd-samsung-galaxy-a15-256gb_20240406_204300.json': 12, 'qna_dtdd-samsung-galaxy-a24_20240406_204313.json': 10, 'qna_dtdd-samsung-galaxy-a14-5g_20240406_204337.json': 18, 'qna_dtdd-samsung-galaxy-a05s-6gb_20240406_204353.json': 10, 'qna_dtdd-samsung-galaxy-a04-4gb-64gb_20240406_204416.json': 18, 'qna_dtdd-samsung-galaxy-a05_20240406_204429.json': 10, 'qna_dtdd-xiaomi-redmi-12-4gb_20240406_204446.json': 14, 'qna_dtdd-oppo-a17k_20240406_204504.json': 15, 'qna_dtdd-vivo-y02t_20240406_204526.json': 16, 'qna_dtdd-realme-c60_20240406_204546.json': 20, 'qna_dtdd-xiaomi-redmi-13c_20240406_204601.json': 10, 'qna_dtdd-honor-x5-plus_20240406_204701.json': 21, 'qna_dtdd-itel-l6502_20240406_204721.json': 14, 'qna_dtdd-xiaomi-redmi-a2-plus_20240406_204739.json': 12, 'qna_dtdd-nokia-8210-4g_20240406_204756.json': 17, 'qna_dtdd-nokia-215_20240406_204827.json': 31, 'qna_dtdd-mobell-f309_20240406_204857.json': 30, 'qna_dtdd-nokia-110-4g-pro_20240406_204958.json': 20, 'qna_dtdd-masstel-fami-60_20240406_205013.json': 12, 'qna_dtdd-mobell-rock-4_20240406_205026.json': 12, 'qna_dtdd-nokia-105-4g-pro_20240406_205038.json': 10, 'qna_dtdd-nokia-105-4g_20240406_205052.json': 13, 'qna_dtdd-mobell-m539_20240406_205114.json': 20, 'qna_dtdd-mobell-f209_20240406_205139.json': 17, 'qna_dtdd-itel-it9210_20240406_205203.json': 12, 'qna_dtdd-masstel-lux-10_20240406_205252.json': 12, 'qna_dtdd-mobell-m331_20240406_205307.json': 15, 'qna_dtdd-itel-it9010_20240406_205321.json': 12, 'qna_dtdd-masstel-izi-10_20240406_205333.json': 10, 'qna_dtdd-mobell-m239_20240406_205346.json': 12}, {'qna_may-tinh-bang-oppo-pad-neo-6gb_20240407_124228.json': 20, 'qna_may-tinh-bang-samsung-galaxy-tab-a9-plus_20240407_124308.json': 31, 'qna_may-tinh-bang-samsung-galaxy-tab-a9_20240407_124402.json': 36, 'qna_may-tinh-bang-honor-pad-x9_20240407_124548.json': 16, 'qna_may-tinh-bang-ipad-gen-9_20240407_124619.json': 21, 'qna_may-tinh-bang-ipad-air-5_20240407_124721.json': 42, 'qna_may-tinh-bang-ipad-gen-10_20240407_124836.json': 30, 'qna_may-tinh-bang-lenovo-tab-m10-gen-3_20240407_124933.json': 16, 'qna_may-tinh-bang-xiaomi-redmi-pad-se-4gb_20240407_125013.json': 25, 'qna_may-tinh-bang-lenovo-tab-m9_20240407_125035.json': 20, 'qna_may-tinh-bang-ipad-pro-m2-12-9-inch_20240407_125113.json': 30, 'qna_may-tinh-bang-lenovo-tab-m8-gen-4_20240407_125141.json': 18, 'qna_may-tinh-bang-xiaomi-redmi-pad-se_20240407_125202.json': 14, 'qna_may-tinh-bang-ipad-pro-m2-129-wifi-cellular-128gb_20240407_125225.json': 16, 'qna_may-tinh-bang-samsung-galaxy-tab-s9-plus-5g_20240407_125353.json': 30, 'qna_may-tinh-bang-ipad-pro-m2-11-inch_20240407_125511.json': 29, 'qna_may-tinh-bang-samsung-galaxy-tab-s9-plus_20240407_125639.json': 25, 'qna_may-tinh-bang-samsung-galaxy-tab-s9-5g-256gb_20240407_125731.json': 30, 'qna_may-tinh-bang-ipad-air-5-m1-wifi-cellular-64gb_20240407_125836.json': 39, 'qna_may-tinh-bang-oppo-pad-2_20240407_125857.json': 12, 'qna_may-tinh-bang-ipad-10-wifi-cellular-64gb_20240407_125928.json': 12, 'qna_may-tinh-bang-samsung-galaxy-tab-s9_20240407_130013.json': 25, 'qna_may-tinh-bang-xiaomi-pad-6_20240407_130039.json': 21, 'qna_may-tinh-bang-samsung-galaxy-tab-s9-fe-plus_20240407_130116.json': 23, 'qna_may-tinh-bang-oppo-pad-neo_20240407_130145.json': 20, 'qna_may-tinh-bang-lenovo-tab-m10-fhd-plus_20240407_130204.json': 15, 'qna_may-tinh-bang-xiaomi-redmi-pad-se-8gb_20240407_130234.json': 18, 'qna_may-tinh-bang-oppo-pad-air-128gb_20240407_130337.json': 14, 'qna_may-tinh-bang-oppo-pad-air_20240407_130401.json': 20}, {'qna_laptop-asus-vivobook-go-15-e1504fa-r5-nj776w_20240407_140259.json': 11, 'qna_laptop-apple-macbook-air-2020-mgn63saa_20240407_140341.json': 20, 'qna_laptop-dell-inspiron-15-3520-i5-25p231_20240407_140401.json': 10, 'qna_laptop-asus-vivobook-15-oled-a1505za-i5-l1337w_20240407_140430.json': 10, 'qna_laptop-hp-245-g10-r5-8f155pa_20240407_140625.json': 26, 'qna_laptop-hp-15s-fq5229tu-i3-8u237pa_20240407_140719.json': 20, 'qna_laptop-dell-inspiron-15-3520-i5u085w11blu_20240407_140819.json': 33, 'qna_laptop-acer-aspire-lite-15-51m-5542-i5-nxks5sv001_20240407_140901.json': 15, 'qna_laptop-hp-pavilion-14-dv2073tu-i5-7c0p2pa_20240407_140946.json': 20, 'qna_laptop-asus-vivobook-x1404za-i3-nk246w_20240407_141146.json': 15, 'qna_laptop-acer-aspire-3-a315-510p-32ef-i3-nxkdhsv001_20240407_141215.json': 16, 'qna_laptop-apple-macbook-air-m2-2022_20240407_141814.json': 15, 'qna_laptop-hp-pavilion-15-eg2081tu-i5-7c0q4pa_20240407_142332.json': 20, 'qna_laptop-acer-aspire-5-a515-58gm-51lb-i5-nxkq4sv002_20240407_142401.json': 12, 'qna_laptop-asus-vivobook-15-x1504za-i3-nj102w_20240407_142558.json': 20, 'qna_laptop-hp-240-g9-i3-6l1x7pa_20240407_142641.json': 16, 'qna_laptop-asus-tuf-gaming-f15-fx507zc4-i5-hn229w_20240407_142726.json': 12, 'qna_laptop-hp-240-g9-i5-6l1y2pa_20240407_142758.json': 23, 'qna_laptop-hp-15s-fq5162tu-i5-7c134pa_20240407_142845.json': 21, 'qna_laptop-acer-aspire-a315-44p-r9w8-r7-nxksjsv002_20240407_142912.json': 10, 'qna_laptop-msi-modern-14-c11m-i3-011vn_20240407_142934.json': 10, 'qna_laptop-hp-15s-fq5147tu-i7-7c133pa_20240407_143033.json': 30, 'qna_laptop-acer-aspire-5-a515-58m-56yx-i5-nxkq8sv005_20240407_143056.json': 10, 'qna_laptop-hp-pavilion-15-eg2082tu-i5-7c0q5pa_20240407_143114.json': 10, 'qna_laptop-asus-vivobook-16-x1605va-i5-mb360w_20240407_143959.json': 20, 'qna_laptop-dell-inspiron-15-3520-i5-71027003_20240407_144041.json': 23, 'qna_laptop-dell-inspiron-3520-i3-71003264_20240407_144136.json': 23, 'qna_laptop-acer-aspire-3-a315-59-38pg-i3-nxk6tsv00a_20240407_144218.json': 16, 'qna_laptop-hp-victus-15-fa1139tx-i5-8y6w3pa_20240407_144308.json': 20, 'qna_laptop-acer-nitro-5-gaming-an515-57-5669-i5-nhqehsv001_20240407_144358.json': 20}])"
      ]
     },
     "execution_count": 119,
     "metadata": {},
     "output_type": "execute_result"
    }
   ],
   "source": [
    "qa_counts.values()"
   ]
  },
  {
   "cell_type": "code",
   "execution_count": 124,
   "metadata": {},
   "outputs": [
    {
     "name": "stdout",
     "output_type": "stream",
     "text": [
      "dict_values([15, 10, 12, 19, 14, 20, 11, 14, 10, 10, 10, 12, 20, 12, 15, 17, 12, 16, 11, 25, 12, 10, 16, 12, 20, 13, 15, 10, 15, 20, 12, 12, 10, 14, 30, 15, 20, 18, 18, 20, 20, 12, 20, 12, 20, 10, 23, 20, 20, 10, 19, 16, 15, 15, 16, 11, 12, 10, 14, 15, 12, 20, 16, 12, 12, 12, 10, 20, 18, 12, 12, 12, 10, 18, 10, 18, 10, 14, 15, 16, 20, 10, 21, 14, 12, 17, 31, 30, 20, 12, 12, 10, 13, 20, 17, 12, 12, 15, 12, 10, 12])\n",
      "dict_values([20, 31, 36, 16, 21, 42, 30, 16, 25, 20, 30, 18, 14, 16, 30, 29, 25, 30, 39, 12, 12, 25, 21, 23, 20, 15, 18, 14, 20])\n",
      "dict_values([11, 20, 10, 10, 26, 20, 33, 15, 20, 15, 16, 15, 20, 12, 20, 16, 12, 23, 21, 10, 10, 30, 10, 10, 20, 23, 23, 16, 20, 20])\n"
     ]
    }
   ],
   "source": [
    "for v in qa_counts.values():\n",
    "    print(v.values())"
   ]
  },
  {
   "cell_type": "code",
   "execution_count": null,
   "metadata": {},
   "outputs": [],
   "source": []
  },
  {
   "cell_type": "code",
   "execution_count": 112,
   "metadata": {},
   "outputs": [
    {
     "data": {
      "text/plain": [
       "2713"
      ]
     },
     "execution_count": 112,
     "metadata": {},
     "output_type": "execute_result"
    }
   ],
   "source": [
    "total_qa_count"
   ]
  },
  {
   "cell_type": "code",
   "execution_count": null,
   "metadata": {},
   "outputs": [],
   "source": [
    "def load_qna_data(product_id, qna_path_mapping):\n",
    "    qna_file_path = qna_path_mapping[product_id]\n",
    "    if os.path.exists(qna_file_path):\n",
    "        with open(qna_file_path, 'r', encoding='utf-8') as qna_file:\n",
    "            qna_data = json.load(qna_file)\n",
    "        return qna_data.get('questions', [])\n",
    "    else:\n",
    "        return []"
   ]
  }
 ],
 "metadata": {
  "kernelspec": {
   "display_name": "env-01",
   "language": "python",
   "name": "python3"
  },
  "language_info": {
   "codemirror_mode": {
    "name": "ipython",
    "version": 3
   },
   "file_extension": ".py",
   "mimetype": "text/x-python",
   "name": "python",
   "nbconvert_exporter": "python",
   "pygments_lexer": "ipython3",
   "version": "3.12.2"
  }
 },
 "nbformat": 4,
 "nbformat_minor": 2
}
