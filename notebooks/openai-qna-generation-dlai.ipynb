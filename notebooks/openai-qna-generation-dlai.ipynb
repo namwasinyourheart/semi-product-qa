{
 "cells": [
  {
   "cell_type": "code",
   "execution_count": 16,
   "metadata": {
    "height": 30
   },
   "outputs": [],
   "source": [
    "ls"
   ]
  },
  {
   "cell_type": "code",
   "execution_count": 17,
   "metadata": {
    "height": 30
   },
   "outputs": [],
   "source": [
    "from utils1 import read_txt_file, load_json_lines"
   ]
  },
  {
   "cell_type": "code",
   "execution_count": 18,
   "metadata": {
    "height": 132
   },
   "outputs": [],
   "source": [
    "import openai\n",
    "import os\n",
    "\n",
    "from dotenv import load_dotenv, find_dotenv\n",
    "_ = load_dotenv(find_dotenv())\n",
    "\n",
    "openai.api_key  = os.getenv('OPENAI_API_KEY')"
   ]
  },
  {
   "cell_type": "code",
   "execution_count": 19,
   "metadata": {
    "height": 149
   },
   "outputs": [],
   "source": [
    "def get_completion(prompt, model=\"gpt-3.5-turbo-1106\"):  # gpt-3.5-turbo\n",
    "    messages = [{\"role\": \"user\", \"content\": prompt}]\n",
    "    response = openai.ChatCompletion.create(\n",
    "        model=model,\n",
    "        messages=messages,\n",
    "        temperature=0,\n",
    "        seed=20240407\n",
    "    )\n",
    "    return response.choices[0].message[\"content\"]"
   ]
  },
  {
   "cell_type": "code",
   "execution_count": null,
   "metadata": {},
   "outputs": [],
   "source": [
    "# def get_completion(prompt, model=\"gpt-3.5-turbo-1106\"):  # gpt-3.5-turbo\n",
    "#     messages = [{\"role\": \"user\", \"content\": prompt}]\n",
    "#     response = openai.ChatCompletion.create(\n",
    "#         model=model,\n",
    "#         messages=messages,\n",
    "#         temperature=0.7,\n",
    "#         seed=20240407\n",
    "#     )\n",
    "#     return response.choices[0].message[\"content\"]"
   ]
  },
  {
   "cell_type": "code",
   "execution_count": 22,
   "metadata": {
    "height": 47
   },
   "outputs": [],
   "source": [
    "prompt_org = read_txt_file('prompt_org.txt')\n",
    "print(prompt_org)"
   ]
  },
  {
   "cell_type": "code",
   "execution_count": 24,
   "metadata": {
    "height": 47
   },
   "outputs": [],
   "source": [
    "product_data_list = load_json_lines('phone_products_20240406_203410.json')\n",
    "print(len(product_data_list))"
   ]
  },
  {
   "cell_type": "code",
   "execution_count": 25,
   "metadata": {
    "height": 30
   },
   "outputs": [],
   "source": [
    "product_data = str(product_data_list[-1])"
   ]
  },
  {
   "cell_type": "code",
   "execution_count": null,
   "metadata": {},
   "outputs": [],
   "source": [
    "import json\n",
    "\n",
    "def merge_questions_created(questions_created_new, questions_created_old):\n",
    "    # Load the JSON strings into dictionaries\n",
    "    questions_created_old_js = json.loads(questions_created_old)\n",
    "    questions_created_new_js = json.loads(questions_created_new)\n",
    "\n",
    "    # Merge the dictionaries\n",
    "    questions_created_merged_new_old = {\n",
    "        \"product_id\": questions_created_old_js[\"product_id\"],\n",
    "        \"url\": questions_created_old_js[\"url\"],\n",
    "        \"questions\": questions_created_old_js[\"questions\"] + questions_created_new_js[\"questions\"]\n",
    "    }\n",
    "\n",
    "    # Convert the merged dictionary back to a JSON string\n",
    "    questions_created_merged_new_old = json.dumps(questions_created_merged_new_old, ensure_ascii=False, indent=4)\n",
    "    \n",
    "    return questions_created_merged_new_old"
   ]
  },
  {
   "cell_type": "code",
   "execution_count": null,
   "metadata": {},
   "outputs": [],
   "source": [
    "def is_valid_json(json_str):\n",
    "    \n",
    "    try:\n",
    "        json.loads(json_str)\n",
    "        return True\n",
    "    except json.JSONDecodeError:\n",
    "        return False\n"
   ]
  },
  {
   "cell_type": "code",
   "execution_count": null,
   "metadata": {},
   "outputs": [],
   "source": [
    "from IPython.display import HTML\n",
    "\n",
    "from datetime import datetime,timedelta\n",
    "\n",
    "def get_current_timestamp():\n",
    "\n",
    "    current_time_utc = datetime.utcnow()\n",
    "    time_difference = timedelta(hours=7)\n",
    "    \n",
    "    current_time_hanoi = current_time_utc + time_difference\n",
    "    timestamp = current_time_hanoi.strftime(\"%Y%m%d_%H%M%S\")\n",
    "    \n",
    "    return timestamp\n",
    "\n",
    "get_current_timestamp()"
   ]
  },
  {
   "cell_type": "code",
   "execution_count": null,
   "metadata": {},
   "outputs": [],
   "source": [
    "\n",
    "\n",
    "for i, product_data in enumerate(product_data_list[:]):\n",
    "    print(i)\n",
    "    print(product_data['url'])\n",
    "    prompt_org = prompt_org = read_txt_file('prompt_org.txt')\n",
    "    \n",
    "    prompt_org = prompt_org.replace('{product_data}', str(product_data))\n",
    "    questions_created_old = 'EMPTY'\n",
    "    \n",
    "    for j in range(2):\n",
    "        if j == 0:\n",
    "            questions_created_old = 'EMPTY'\n",
    "            \n",
    "        prompt_complete = prompt_org.replace('{questions_created}', questions_created_old)\n",
    "        \n",
    "        \n",
    "\n",
    "        questions_created_new = get_completion(prompt_complete)\n",
    "        while is_valid_json(questions_created_new) == 0:\n",
    "            questions_created_new = get_completion(prompt_complete)\n",
    "            \n",
    "        print(questions_created_new)\n",
    "            \n",
    "        if j ==0: \n",
    "            questions_created_old = questions_created_new\n",
    "        else:\n",
    "            questions_created_old = merge_questions_created(questions_created_new, questions_created_old)\n",
    "            \n",
    "        \n",
    "    \n",
    "    filename = f\"qna_{product_data['product_id']}_{get_current_timestamp()}.json\"\n",
    "    \n",
    "    with open(filename, \"w\") as json_file:\n",
    "        json_file.write(questions_created_old)\n",
    "    \n",
    "#     print(f\"Saved {filename}.\")\n",
    "                        \n",
    "    # Generate HTML code for displaying a link to download the file\n",
    "    download_link_html = f'<a href=\"{filename}\" download>Download \"{filename}\" here.</a>'\n",
    "\n",
    "    # Display the HTML code\n",
    "    display(HTML(download_link_html))\n",
    "\n",
    "    \n"
   ]
  },
  {
   "cell_type": "code",
   "execution_count": null,
   "metadata": {},
   "outputs": [],
   "source": [
    "import os\n",
    "import zipfile\n",
    "\n",
    "def zip_files_with_prefix(directory, prefix, zip_filename):\n",
    "    \"\"\"\n",
    "    Zip files with a specific prefix in a directory into a zip archive.\n",
    "\n",
    "    Args:\n",
    "        directory (str): Directory containing the files.\n",
    "        prefix (str): Prefix of the files to be zipped.\n",
    "        zip_filename (str): Name of the zip archive to be created.\n",
    "    \"\"\"\n",
    "    # Get the list of files in the directory\n",
    "    files_to_zip = [filename for filename in os.listdir(directory) if filename.startswith(prefix)]\n",
    "\n",
    "    zip_filename = zip_filename.replace('.zip', f'_{len(files_to_zip)}.zip')\n",
    "    \n",
    "    # Create a zip file\n",
    "    with zipfile.ZipFile(zip_filename, 'w') as zipf:\n",
    "        # Add each file with the prefix to the zip archive\n",
    "        for filename in files_to_zip:\n",
    "            filepath = os.path.join(directory, filename)\n",
    "            zipf.write(filepath, filename)\n",
    "\n",
    "# Directory containing the files\n",
    "directory = '.'\n",
    "\n",
    "# Prefix of the files to be zipped\n",
    "prefix = 'qna'\n",
    "\n",
    "# Name of the zip archive to be created\n",
    "zip_filename = 'qna_laptop.zip'\n",
    "\n",
    "# Zip files with the specified prefix\n",
    "zip_files_with_prefix(directory, prefix, zip_filename)"
   ]
  }
 ],
 "metadata": {
  "kernelspec": {
   "display_name": "Python 3 (ipykernel)",
   "language": "python",
   "name": "python3"
  },
  "language_info": {
   "codemirror_mode": {
    "name": "ipython",
    "version": 3
   },
   "file_extension": ".py",
   "mimetype": "text/x-python",
   "name": "python",
   "nbconvert_exporter": "python",
   "pygments_lexer": "ipython3",
   "version": "3.9.16"
  }
 },
 "nbformat": 4,
 "nbformat_minor": 2
}
