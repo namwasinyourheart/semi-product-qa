{
 "cells": [
  {
   "cell_type": "code",
   "execution_count": 1,
   "metadata": {},
   "outputs": [
    {
     "data": {
      "text/plain": [
       "'h:\\\\My Drive\\\\projects\\\\scrapy-toy\\\\tgdd-selenium'"
      ]
     },
     "execution_count": 1,
     "metadata": {},
     "output_type": "execute_result"
    }
   ],
   "source": [
    "pwd"
   ]
  },
  {
   "cell_type": "code",
   "execution_count": 2,
   "metadata": {},
   "outputs": [],
   "source": [
    "from selenium import webdriver\n",
    "from selenium.webdriver.common.by import By\n",
    "from selenium.webdriver.support.ui import WebDriverWait\n",
    "from selenium.webdriver.support import expected_conditions as EC\n",
    "from selenium.common.exceptions import ElementNotInteractableException, ElementClickInterceptedException\n",
    "\n",
    "from bs4 import BeautifulSoup\n",
    "\n",
    "import json"
   ]
  },
  {
   "cell_type": "code",
   "execution_count": 3,
   "metadata": {},
   "outputs": [],
   "source": [
    "driver = webdriver.Chrome()"
   ]
  },
  {
   "cell_type": "code",
   "execution_count": 4,
   "metadata": {},
   "outputs": [],
   "source": [
    "driver.get('https://www.thegioididong.com/dtdd')\n",
    "# driver.get('https://www.thegioididong.com/may-tinh-bang',)"
   ]
  },
  {
   "cell_type": "code",
   "execution_count": 5,
   "metadata": {},
   "outputs": [],
   "source": [
    "# For category laptop-ldp"
   ]
  },
  {
   "cell_type": "code",
   "execution_count": 6,
   "metadata": {},
   "outputs": [],
   "source": [
    "while True:\n",
    "    try:\n",
    "        button = driver.find_element(By.CLASS_NAME, \"view-more\")\n",
    "        button.click()\n",
    "    except (ElementNotInteractableException, ElementClickInterceptedException):\n",
    "        break"
   ]
  },
  {
   "cell_type": "code",
   "execution_count": 7,
   "metadata": {},
   "outputs": [],
   "source": [
    "# Extract product URLs from the category page\n",
    "soup = BeautifulSoup(driver.page_source, 'html.parser')"
   ]
  },
  {
   "cell_type": "code",
   "execution_count": 8,
   "metadata": {},
   "outputs": [],
   "source": [
    "# Find all <a> elements with class \"main-contain\"\n",
    "all_products = soup.find_all('a', class_='main-contain')\n",
    "product_urls = ['https://thegioididong.com' + product['href'] for product in all_products]"
   ]
  },
  {
   "cell_type": "code",
   "execution_count": 9,
   "metadata": {},
   "outputs": [
    {
     "data": {
      "text/plain": [
       "(['https://thegioididong.com/dtdd/iphone-15-pro-max?utm_flashsale=1',\n",
       "  'https://thegioididong.com/dtdd/iphone-15-pro?utm_flashsale=1',\n",
       "  'https://thegioididong.com/dtdd/iphone-15-plus?utm_flashsale=1',\n",
       "  'https://thegioididong.com/dtdd/iphone-15?utm_flashsale=1',\n",
       "  'https://thegioididong.com/dtdd/samsung-galaxy-s24-256gb-5g',\n",
       "  'https://thegioididong.com/dtdd/samsung-galaxy-s24-plus-5g',\n",
       "  'https://thegioididong.com/dtdd/samsung-galaxy-s24-ultra-5g',\n",
       "  'https://thegioididong.com/dtdd/xiaomi-14',\n",
       "  'https://thegioididong.com/dtdd/xiaomi-redmi-note-13-pro',\n",
       "  'https://thegioididong.com/dtdd/oppo-reno11',\n",
       "  'https://thegioididong.com/dtdd/xiaomi-redmi-a3',\n",
       "  'https://thegioididong.com/dtdd/vivo-y03',\n",
       "  'https://thegioididong.com/dtdd/realme-note-50-64gb',\n",
       "  'https://thegioididong.com/dtdd/iphone-13?utm_flashsale=1',\n",
       "  'https://thegioididong.com/dtdd/xiaomi-redmi-note-13-6gb-128gb',\n",
       "  'https://thegioididong.com/dtdd/realme-c55',\n",
       "  'https://thegioididong.com/dtdd/iphone-11?utm_flashsale=1',\n",
       "  'https://thegioididong.com/dtdd/oppo-reno11-f-5g',\n",
       "  'https://thegioididong.com/dtdd/realme-c67',\n",
       "  'https://thegioididong.com/dtdd/realme-11-128gb?utm_flashsale=1',\n",
       "  'https://thegioididong.com/dtdd/samsung-galaxy-s23-fe-5g',\n",
       "  'https://thegioididong.com/dtdd/iphone-12',\n",
       "  'https://thegioididong.com/dtdd/samsung-galaxy-a25-8gb',\n",
       "  'https://thegioididong.com/dtdd/realme-c53',\n",
       "  'https://thegioididong.com/dtdd/oppo-a18',\n",
       "  'https://thegioididong.com/dtdd/iphone-14-pro-max',\n",
       "  'https://thegioididong.com/dtdd/oppo-a38-6gb',\n",
       "  'https://thegioididong.com/dtdd/vivo-y17s-4-64',\n",
       "  'https://thegioididong.com/dtdd/oppo-a57-128gb?utm_flashsale=1',\n",
       "  'https://thegioididong.com/dtdd/vivo-y36-128gb?utm_flashsale=1',\n",
       "  'https://thegioididong.com/dtdd/oppo-reno11-pro',\n",
       "  'https://thegioididong.com/dtdd/realme-c30s-3gb-64gb',\n",
       "  'https://thegioididong.com/dtdd/xiaomi-redmi-note-13-pro-5g',\n",
       "  'https://thegioididong.com/dtdd/samsung-galaxy-a15-5g',\n",
       "  'https://thegioididong.com/dtdd/oppo-reno10-5g-128gb?utm_flashsale=1',\n",
       "  'https://thegioididong.com/dtdd/samsung-galaxy-s23-ultra',\n",
       "  'https://thegioididong.com/dtdd/vivo-y22s-8gb?utm_flashsale=1',\n",
       "  'https://thegioididong.com/dtdd/oppo-reno10-pro',\n",
       "  'https://thegioididong.com/dtdd/oppo-reno10-pro-plus',\n",
       "  'https://thegioididong.com/dtdd/xiaomi-redmi-note-13-pro-plus',\n",
       "  'https://thegioididong.com/dtdd/oppo-reno8-t',\n",
       "  'https://thegioididong.com/dtdd/realme-c51',\n",
       "  'https://thegioididong.com/dtdd/oppo-find-n3',\n",
       "  'https://thegioididong.com/dtdd/samsung-galaxy-z-fold5',\n",
       "  'https://thegioididong.com/dtdd/iphone-14-pro-256gb',\n",
       "  'https://thegioididong.com/dtdd/oppo-find-n3-flip',\n",
       "  'https://thegioididong.com/dtdd/xiaomi-14-5g-256',\n",
       "  'https://thegioididong.com/dtdd/iphone-14-plus',\n",
       "  'https://thegioididong.com/dtdd/oppo-find-n2-flip?utm_flashsale=1',\n",
       "  'https://thegioididong.com/dtdd/iphone-14',\n",
       "  'https://thegioididong.com/dtdd/samsung-galaxy-z-flip5',\n",
       "  'https://thegioididong.com/dtdd/xiaomi-13t-pro?utm_flashsale=1',\n",
       "  'https://thegioididong.com/dtdd/realme-11-pro-plus-5g',\n",
       "  'https://thegioididong.com/dtdd/samsung-galaxy-s23-fe-5g-256gb',\n",
       "  'https://thegioididong.com/dtdd/vivo-v29-5g',\n",
       "  'https://thegioididong.com/dtdd/realme-11-pro?utm_flashsale=1',\n",
       "  'https://thegioididong.com/dtdd/samsung-galaxy-a55-5g-128gb',\n",
       "  'https://thegioididong.com/dtdd/xiaomi-13t-12gb',\n",
       "  'https://thegioididong.com/dtdd/samsung-galaxy-m54',\n",
       "  'https://thegioididong.com/dtdd/vivo-v29e-5g',\n",
       "  'https://thegioididong.com/dtdd/oppo-reno8-t-5g',\n",
       "  'https://thegioididong.com/dtdd/samsung-galaxy-a35-5g-128gb',\n",
       "  'https://thegioididong.com/dtdd/samsung-galaxy-a54-5g-128gb',\n",
       "  'https://thegioididong.com/dtdd/vivo-v27e',\n",
       "  'https://thegioididong.com/dtdd/oppo-a79-5g',\n",
       "  'https://thegioididong.com/dtdd/samsung-galaxy-a34-5g-128gb',\n",
       "  'https://thegioididong.com/dtdd/vivo-y100-128gb',\n",
       "  'https://thegioididong.com/dtdd/samsung-galaxy-m34-5g',\n",
       "  'https://thegioididong.com/dtdd/oppo-a98-5g',\n",
       "  'https://thegioididong.com/dtdd/oppo-a78',\n",
       "  'https://thegioididong.com/dtdd/realme-10',\n",
       "  'https://thegioididong.com/dtdd/honor-x7b',\n",
       "  'https://thegioididong.com/dtdd/samsung-galaxy-a15',\n",
       "  'https://thegioididong.com/dtdd/vivo-y35-2022?utm_flashsale=1',\n",
       "  'https://thegioididong.com/dtdd/samsung-galaxy-a24-8gb?utm_flashsale=1',\n",
       "  'https://thegioididong.com/dtdd/oppo-a58-4g',\n",
       "  'https://thegioididong.com/dtdd/realme-c65-8g',\n",
       "  'https://thegioididong.com/dtdd/samsung-galaxy-a14-5g',\n",
       "  'https://thegioididong.com/dtdd/samsung-galaxy-a04s',\n",
       "  'https://thegioididong.com/dtdd/samsung-galaxy-a05s-6gb',\n",
       "  'https://thegioididong.com/dtdd/oppo-a17?utm_flashsale=1',\n",
       "  'https://thegioididong.com/dtdd/samsung-galaxy-a04-4gb-64gb',\n",
       "  'https://thegioididong.com/dtdd/xiaomi-redmi-12',\n",
       "  'https://thegioididong.com/dtdd/samsung-galaxy-a05-4gb',\n",
       "  'https://thegioididong.com/dtdd/xiaomi-redmi-13c',\n",
       "  'https://thegioididong.com/dtdd/oppo-a17k',\n",
       "  'https://thegioididong.com/dtdd/vivo-y02t',\n",
       "  'https://thegioididong.com/dtdd/realme-c60',\n",
       "  'https://thegioididong.com/dtdd/honor-x5-plus',\n",
       "  'https://thegioididong.com/dtdd/itel-l6502',\n",
       "  'https://thegioididong.com/dtdd/xiaomi-redmi-a2',\n",
       "  'https://thegioididong.com/dtdd/nokia-8210-4g',\n",
       "  'https://thegioididong.com/dtdd/nokia-215',\n",
       "  'https://thegioididong.com/dtdd/mobell-f309',\n",
       "  'https://thegioididong.com/dtdd/nokia-110-4g-pro',\n",
       "  'https://thegioididong.com/dtdd/masstel-fami-60',\n",
       "  'https://thegioididong.com/dtdd/mobell-rock-4',\n",
       "  'https://thegioididong.com/dtdd/nokia-105-4g-pro',\n",
       "  'https://thegioididong.com/dtdd/nokia-105-4g',\n",
       "  'https://thegioididong.com/dtdd/mobell-m539',\n",
       "  'https://thegioididong.com/dtdd/mobell-f209',\n",
       "  'https://thegioididong.com/dtdd/itel-it9210',\n",
       "  'https://thegioididong.com/dtdd/masstel-lux-10',\n",
       "  'https://thegioididong.com/dtdd/mobell-m331',\n",
       "  'https://thegioididong.com/dtdd/itel-it9010',\n",
       "  'https://thegioididong.com/dtdd/masstel-izi-10',\n",
       "  'https://thegioididong.com/dtdd/mobell-m239'],\n",
       " 107)"
      ]
     },
     "execution_count": 9,
     "metadata": {},
     "output_type": "execute_result"
    }
   ],
   "source": [
    "product_urls, len(product_urls)"
   ]
  },
  {
   "cell_type": "code",
   "execution_count": 10,
   "metadata": {},
   "outputs": [],
   "source": [
    "from my_utils import save_list_to_txt_file"
   ]
  },
  {
   "cell_type": "code",
   "execution_count": 11,
   "metadata": {},
   "outputs": [
    {
     "name": "stdout",
     "output_type": "stream",
     "text": [
      "Saved to product_urls.txt.\n"
     ]
    }
   ],
   "source": [
    "save_list_to_txt_file(product_urls, 'product_urls.txt')"
   ]
  },
  {
   "cell_type": "code",
   "execution_count": 12,
   "metadata": {},
   "outputs": [],
   "source": [
    "def extract_tech_specs(soup):\n",
    "    # print(soup)\n",
    "    \n",
    "    big_types = soup.find_all(class_=\"parameter-ttl\")\n",
    "    # print(big_types)\n",
    "    info_dict = {}\n",
    "    for big_type in big_types:\n",
    "        big_type_name = big_type.text.strip()\n",
    "        info_dict[big_type_name] = {}\n",
    "        sibling = big_type.find_next_sibling(\"ul\")\n",
    "        if sibling:\n",
    "            for li in sibling.find_all(\"li\"):\n",
    "                smaller_type = li.find(\"div\", class_=\"ctLeft\").text.strip(\": \\n\")\n",
    "                detail_tag = li.find(\"div\", class_=\"ctRight\")\n",
    "                circles = detail_tag.find_all(\"p\", class_=\"circle\")\n",
    "                if circles:\n",
    "                    detail = [circle.text.strip() for circle in circles]\n",
    "                else:\n",
    "                    detail = detail_tag.text.strip()\n",
    "                info_dict[big_type_name][smaller_type] = detail\n",
    "    # print(len(info_dict))\n",
    "    return info_dict"
   ]
  },
  {
   "cell_type": "code",
   "execution_count": 17,
   "metadata": {},
   "outputs": [
    {
     "name": "stdout",
     "output_type": "stream",
     "text": [
      "https://thegioididong.com/dtdd/iphone-15-pro-max?utm_flashsale=1\n",
      "{'Màn hình': {'Công nghệ màn hình': 'OLED', 'Độ phân giải': 'Super Retina XDR (1290 x 2796 Pixels)', 'Màn hình rộng': '6.7\" - Tần số quét 120 Hz', 'Độ sáng tối đa': '2000 nits', 'Mặt kính cảm ứng': 'Kính cường lực Ceramic Shield'}, 'Camera sau': {'Độ phân giải': 'Chính 48 MP & Phụ 12 MP, 12 MP', 'Quay phim': ['HD 720p@30fps', 'FullHD 1080p@60fps', 'FullHD 1080p@30fps', '4K 2160p@60fps', '4K 2160p@30fps'], 'Đèn Flash': 'Có', 'Tính năng': ['Ảnh Raw', 'Zoom quang học', 'Zoom kỹ thuật số', 'Xóa phông', 'Trôi nhanh thời gian (Time Lapse)', 'Toàn cảnh (Panorama)', 'Smart HDR 5', 'Siêu độ phân giải', 'Quay chậm (Slow Motion)', 'Live Photo', 'Góc siêu rộng (Ultrawide)', 'Góc rộng (Wide)', 'Dolby Vision HDR', 'Deep Fusion', 'Cinematic', 'Chống rung quang học (OIS)', 'Bộ lọc màu', 'Ban đêm (Night Mode)']}, 'Camera trước': {'Độ phân giải': '12 MP', 'Tính năng': ['Smart HDR 5', 'Xóa phông', 'Trôi nhanh thời gian (Time Lapse)', 'Quay video HD', 'Quay video Full HD', 'Quay video 4K', 'Nhãn dán (AR Stickers)', 'Live Photo', 'Chụp đêm', 'Bộ lọc màu']}, 'Hệ điều hành & CPU': {'Hệ điều hành': 'iOS 17', 'Chip xử lý (CPU)': 'Apple A17 Pro 6 nhân', 'Tốc độ CPU': '3.78 GHz', 'Chip đồ họa (GPU)': 'Apple GPU 6 nhân'}, 'Bộ nhớ & Lưu trữ': {'RAM': '8 GB', 'Dung lượng lưu trữ': '256 GB', 'Danh bạ': 'Không giới hạn'}, 'Kết nối': {'Mạng di động': 'Hỗ trợ 5G', 'SIM': '1 Nano SIM & 1 eSIM', 'Wifi': ['Wi-Fi MIMO', 'Wi-Fi 802.11 a/b/g/n/ac/ax', '6 GHz'], 'GPS': ['QZSS', 'NavIC', 'GPS', 'GLONASS', 'GALILEO', 'BEIDOU'], 'Bluetooth': 'v5.3', 'Cổng kết nối/sạc': 'Type-C', 'Jack tai nghe': 'Type-C'}, 'Pin & Sạc': {'Dung lượng pin': '4422 mAh', 'Loại pin': 'Li-Ion', 'Hỗ trợ sạc tối đa': '20 W', 'Công nghệ pin': ['Tiết kiệm pin', 'Sạc ngược không dây', 'Sạc không dây MagSafe']}, 'Tiện ích': {'Bảo mật nâng cao': 'Mở khoá khuôn mặt Face ID', 'Tính năng đặc biệt': 'Phát hiện va chạm (Crash Detection)\\nMàn hình luôn hiển thị AOD', 'Kháng nước, bụi': 'IP68', 'Ghi âm': 'Ghi âm mặc định', 'Xem phim': 'H.264(MPEG4-AVC)', 'Nghe nhạc': ['MP3', 'FLAC', 'AAC']}, 'Thông tin chung': {'Thiết kế': 'Nguyên khối', 'Chất liệu': 'Khung Titan & Mặt lưng kính cường lực', 'Kích thước, khối lượng': 'Dài 159.9 mm - Ngang 76.7 mm - Dày 8.25 mm - Nặng 221 g', 'Thời điểm ra mắt': '09/2023', 'Hãng': 'iPhone (Apple). Xem thông tin hãng'}}\n",
      "4.3 92\n",
      "https://thegioididong.com/dtdd/iphone-15-pro?utm_flashsale=1\n"
     ]
    },
    {
     "ename": "KeyboardInterrupt",
     "evalue": "",
     "output_type": "error",
     "traceback": [
      "\u001b[1;31m---------------------------------------------------------------------------\u001b[0m",
      "\u001b[1;31mKeyboardInterrupt\u001b[0m                         Traceback (most recent call last)",
      "Cell \u001b[1;32mIn[17], line 6\u001b[0m\n\u001b[0;32m      1\u001b[0m \u001b[38;5;28;01mfor\u001b[39;00m product_url \u001b[38;5;129;01min\u001b[39;00m product_urls[:\u001b[38;5;241m3\u001b[39m]:\n\u001b[0;32m      2\u001b[0m     \n\u001b[0;32m      3\u001b[0m     \u001b[38;5;66;03m# product_url += '#top-tskt'\u001b[39;00m\n\u001b[0;32m      4\u001b[0m     \u001b[38;5;28mprint\u001b[39m(product_url)\n\u001b[1;32m----> 6\u001b[0m     \u001b[43mdriver\u001b[49m\u001b[38;5;241;43m.\u001b[39;49m\u001b[43mget\u001b[49m\u001b[43m(\u001b[49m\u001b[43mproduct_url\u001b[49m\u001b[43m)\u001b[49m\n\u001b[0;32m      8\u001b[0m     \u001b[38;5;66;03m# Find button for showing details of tech specification\u001b[39;00m\n\u001b[0;32m      9\u001b[0m     \u001b[38;5;66;03m# button_chct = WebDriverWait(driver, 10).until(EC.element_to_be_clickable((By.CSS_SELECTOR, \".btn-detail.btn-short-spec.not-have-instruction\")))\u001b[39;00m\n\u001b[0;32m     10\u001b[0m     button_chct \u001b[38;5;241m=\u001b[39m WebDriverWait(driver, \u001b[38;5;241m10\u001b[39m)\u001b[38;5;241m.\u001b[39muntil(EC\u001b[38;5;241m.\u001b[39melement_to_be_clickable((By\u001b[38;5;241m.\u001b[39mCSS_SELECTOR, \u001b[38;5;124m\"\u001b[39m\u001b[38;5;124m.btn-detail.btn-short-spec\u001b[39m\u001b[38;5;124m\"\u001b[39m)))\n",
      "File \u001b[1;32mc:\\Users\\NamFam\\anaconda3\\envs\\env-01\\Lib\\site-packages\\selenium\\webdriver\\remote\\webdriver.py:357\u001b[0m, in \u001b[0;36mWebDriver.get\u001b[1;34m(self, url)\u001b[0m\n\u001b[0;32m    355\u001b[0m \u001b[38;5;28;01mdef\u001b[39;00m \u001b[38;5;21mget\u001b[39m(\u001b[38;5;28mself\u001b[39m, url: \u001b[38;5;28mstr\u001b[39m) \u001b[38;5;241m-\u001b[39m\u001b[38;5;241m>\u001b[39m \u001b[38;5;28;01mNone\u001b[39;00m:\n\u001b[0;32m    356\u001b[0m \u001b[38;5;250m    \u001b[39m\u001b[38;5;124;03m\"\"\"Loads a web page in the current browser session.\"\"\"\u001b[39;00m\n\u001b[1;32m--> 357\u001b[0m     \u001b[38;5;28;43mself\u001b[39;49m\u001b[38;5;241;43m.\u001b[39;49m\u001b[43mexecute\u001b[49m\u001b[43m(\u001b[49m\u001b[43mCommand\u001b[49m\u001b[38;5;241;43m.\u001b[39;49m\u001b[43mGET\u001b[49m\u001b[43m,\u001b[49m\u001b[43m \u001b[49m\u001b[43m{\u001b[49m\u001b[38;5;124;43m\"\u001b[39;49m\u001b[38;5;124;43murl\u001b[39;49m\u001b[38;5;124;43m\"\u001b[39;49m\u001b[43m:\u001b[49m\u001b[43m \u001b[49m\u001b[43murl\u001b[49m\u001b[43m}\u001b[49m\u001b[43m)\u001b[49m\n",
      "File \u001b[1;32mc:\\Users\\NamFam\\anaconda3\\envs\\env-01\\Lib\\site-packages\\selenium\\webdriver\\remote\\webdriver.py:346\u001b[0m, in \u001b[0;36mWebDriver.execute\u001b[1;34m(self, driver_command, params)\u001b[0m\n\u001b[0;32m    343\u001b[0m     \u001b[38;5;28;01melif\u001b[39;00m \u001b[38;5;124m\"\u001b[39m\u001b[38;5;124msessionId\u001b[39m\u001b[38;5;124m\"\u001b[39m \u001b[38;5;129;01mnot\u001b[39;00m \u001b[38;5;129;01min\u001b[39;00m params:\n\u001b[0;32m    344\u001b[0m         params[\u001b[38;5;124m\"\u001b[39m\u001b[38;5;124msessionId\u001b[39m\u001b[38;5;124m\"\u001b[39m] \u001b[38;5;241m=\u001b[39m \u001b[38;5;28mself\u001b[39m\u001b[38;5;241m.\u001b[39msession_id\n\u001b[1;32m--> 346\u001b[0m response \u001b[38;5;241m=\u001b[39m \u001b[38;5;28;43mself\u001b[39;49m\u001b[38;5;241;43m.\u001b[39;49m\u001b[43mcommand_executor\u001b[49m\u001b[38;5;241;43m.\u001b[39;49m\u001b[43mexecute\u001b[49m\u001b[43m(\u001b[49m\u001b[43mdriver_command\u001b[49m\u001b[43m,\u001b[49m\u001b[43m \u001b[49m\u001b[43mparams\u001b[49m\u001b[43m)\u001b[49m\n\u001b[0;32m    347\u001b[0m \u001b[38;5;28;01mif\u001b[39;00m response:\n\u001b[0;32m    348\u001b[0m     \u001b[38;5;28mself\u001b[39m\u001b[38;5;241m.\u001b[39merror_handler\u001b[38;5;241m.\u001b[39mcheck_response(response)\n",
      "File \u001b[1;32mc:\\Users\\NamFam\\anaconda3\\envs\\env-01\\Lib\\site-packages\\selenium\\webdriver\\remote\\remote_connection.py:300\u001b[0m, in \u001b[0;36mRemoteConnection.execute\u001b[1;34m(self, command, params)\u001b[0m\n\u001b[0;32m    298\u001b[0m data \u001b[38;5;241m=\u001b[39m utils\u001b[38;5;241m.\u001b[39mdump_json(params)\n\u001b[0;32m    299\u001b[0m url \u001b[38;5;241m=\u001b[39m \u001b[38;5;124mf\u001b[39m\u001b[38;5;124m\"\u001b[39m\u001b[38;5;132;01m{\u001b[39;00m\u001b[38;5;28mself\u001b[39m\u001b[38;5;241m.\u001b[39m_url\u001b[38;5;132;01m}\u001b[39;00m\u001b[38;5;132;01m{\u001b[39;00mpath\u001b[38;5;132;01m}\u001b[39;00m\u001b[38;5;124m\"\u001b[39m\n\u001b[1;32m--> 300\u001b[0m \u001b[38;5;28;01mreturn\u001b[39;00m \u001b[38;5;28;43mself\u001b[39;49m\u001b[38;5;241;43m.\u001b[39;49m\u001b[43m_request\u001b[49m\u001b[43m(\u001b[49m\u001b[43mcommand_info\u001b[49m\u001b[43m[\u001b[49m\u001b[38;5;241;43m0\u001b[39;49m\u001b[43m]\u001b[49m\u001b[43m,\u001b[49m\u001b[43m \u001b[49m\u001b[43murl\u001b[49m\u001b[43m,\u001b[49m\u001b[43m \u001b[49m\u001b[43mbody\u001b[49m\u001b[38;5;241;43m=\u001b[39;49m\u001b[43mdata\u001b[49m\u001b[43m)\u001b[49m\n",
      "File \u001b[1;32mc:\\Users\\NamFam\\anaconda3\\envs\\env-01\\Lib\\site-packages\\selenium\\webdriver\\remote\\remote_connection.py:321\u001b[0m, in \u001b[0;36mRemoteConnection._request\u001b[1;34m(self, method, url, body)\u001b[0m\n\u001b[0;32m    318\u001b[0m     body \u001b[38;5;241m=\u001b[39m \u001b[38;5;28;01mNone\u001b[39;00m\n\u001b[0;32m    320\u001b[0m \u001b[38;5;28;01mif\u001b[39;00m \u001b[38;5;28mself\u001b[39m\u001b[38;5;241m.\u001b[39mkeep_alive:\n\u001b[1;32m--> 321\u001b[0m     response \u001b[38;5;241m=\u001b[39m \u001b[38;5;28;43mself\u001b[39;49m\u001b[38;5;241;43m.\u001b[39;49m\u001b[43m_conn\u001b[49m\u001b[38;5;241;43m.\u001b[39;49m\u001b[43mrequest\u001b[49m\u001b[43m(\u001b[49m\u001b[43mmethod\u001b[49m\u001b[43m,\u001b[49m\u001b[43m \u001b[49m\u001b[43murl\u001b[49m\u001b[43m,\u001b[49m\u001b[43m \u001b[49m\u001b[43mbody\u001b[49m\u001b[38;5;241;43m=\u001b[39;49m\u001b[43mbody\u001b[49m\u001b[43m,\u001b[49m\u001b[43m \u001b[49m\u001b[43mheaders\u001b[49m\u001b[38;5;241;43m=\u001b[39;49m\u001b[43mheaders\u001b[49m\u001b[43m)\u001b[49m\n\u001b[0;32m    322\u001b[0m     statuscode \u001b[38;5;241m=\u001b[39m response\u001b[38;5;241m.\u001b[39mstatus\n\u001b[0;32m    323\u001b[0m \u001b[38;5;28;01melse\u001b[39;00m:\n",
      "File \u001b[1;32mc:\\Users\\NamFam\\anaconda3\\envs\\env-01\\Lib\\site-packages\\urllib3\\request.py:78\u001b[0m, in \u001b[0;36mRequestMethods.request\u001b[1;34m(self, method, url, fields, headers, **urlopen_kw)\u001b[0m\n\u001b[0;32m     74\u001b[0m     \u001b[38;5;28;01mreturn\u001b[39;00m \u001b[38;5;28mself\u001b[39m\u001b[38;5;241m.\u001b[39mrequest_encode_url(\n\u001b[0;32m     75\u001b[0m         method, url, fields\u001b[38;5;241m=\u001b[39mfields, headers\u001b[38;5;241m=\u001b[39mheaders, \u001b[38;5;241m*\u001b[39m\u001b[38;5;241m*\u001b[39murlopen_kw\n\u001b[0;32m     76\u001b[0m     )\n\u001b[0;32m     77\u001b[0m \u001b[38;5;28;01melse\u001b[39;00m:\n\u001b[1;32m---> 78\u001b[0m     \u001b[38;5;28;01mreturn\u001b[39;00m \u001b[38;5;28;43mself\u001b[39;49m\u001b[38;5;241;43m.\u001b[39;49m\u001b[43mrequest_encode_body\u001b[49m\u001b[43m(\u001b[49m\n\u001b[0;32m     79\u001b[0m \u001b[43m        \u001b[49m\u001b[43mmethod\u001b[49m\u001b[43m,\u001b[49m\u001b[43m \u001b[49m\u001b[43murl\u001b[49m\u001b[43m,\u001b[49m\u001b[43m \u001b[49m\u001b[43mfields\u001b[49m\u001b[38;5;241;43m=\u001b[39;49m\u001b[43mfields\u001b[49m\u001b[43m,\u001b[49m\u001b[43m \u001b[49m\u001b[43mheaders\u001b[49m\u001b[38;5;241;43m=\u001b[39;49m\u001b[43mheaders\u001b[49m\u001b[43m,\u001b[49m\u001b[43m \u001b[49m\u001b[38;5;241;43m*\u001b[39;49m\u001b[38;5;241;43m*\u001b[39;49m\u001b[43murlopen_kw\u001b[49m\n\u001b[0;32m     80\u001b[0m \u001b[43m    \u001b[49m\u001b[43m)\u001b[49m\n",
      "File \u001b[1;32mc:\\Users\\NamFam\\anaconda3\\envs\\env-01\\Lib\\site-packages\\urllib3\\request.py:170\u001b[0m, in \u001b[0;36mRequestMethods.request_encode_body\u001b[1;34m(self, method, url, fields, headers, encode_multipart, multipart_boundary, **urlopen_kw)\u001b[0m\n\u001b[0;32m    167\u001b[0m extra_kw[\u001b[38;5;124m\"\u001b[39m\u001b[38;5;124mheaders\u001b[39m\u001b[38;5;124m\"\u001b[39m]\u001b[38;5;241m.\u001b[39mupdate(headers)\n\u001b[0;32m    168\u001b[0m extra_kw\u001b[38;5;241m.\u001b[39mupdate(urlopen_kw)\n\u001b[1;32m--> 170\u001b[0m \u001b[38;5;28;01mreturn\u001b[39;00m \u001b[38;5;28;43mself\u001b[39;49m\u001b[38;5;241;43m.\u001b[39;49m\u001b[43murlopen\u001b[49m\u001b[43m(\u001b[49m\u001b[43mmethod\u001b[49m\u001b[43m,\u001b[49m\u001b[43m \u001b[49m\u001b[43murl\u001b[49m\u001b[43m,\u001b[49m\u001b[43m \u001b[49m\u001b[38;5;241;43m*\u001b[39;49m\u001b[38;5;241;43m*\u001b[39;49m\u001b[43mextra_kw\u001b[49m\u001b[43m)\u001b[49m\n",
      "File \u001b[1;32mc:\\Users\\NamFam\\anaconda3\\envs\\env-01\\Lib\\site-packages\\urllib3\\poolmanager.py:376\u001b[0m, in \u001b[0;36mPoolManager.urlopen\u001b[1;34m(self, method, url, redirect, **kw)\u001b[0m\n\u001b[0;32m    374\u001b[0m     response \u001b[38;5;241m=\u001b[39m conn\u001b[38;5;241m.\u001b[39murlopen(method, url, \u001b[38;5;241m*\u001b[39m\u001b[38;5;241m*\u001b[39mkw)\n\u001b[0;32m    375\u001b[0m \u001b[38;5;28;01melse\u001b[39;00m:\n\u001b[1;32m--> 376\u001b[0m     response \u001b[38;5;241m=\u001b[39m \u001b[43mconn\u001b[49m\u001b[38;5;241;43m.\u001b[39;49m\u001b[43murlopen\u001b[49m\u001b[43m(\u001b[49m\u001b[43mmethod\u001b[49m\u001b[43m,\u001b[49m\u001b[43m \u001b[49m\u001b[43mu\u001b[49m\u001b[38;5;241;43m.\u001b[39;49m\u001b[43mrequest_uri\u001b[49m\u001b[43m,\u001b[49m\u001b[43m \u001b[49m\u001b[38;5;241;43m*\u001b[39;49m\u001b[38;5;241;43m*\u001b[39;49m\u001b[43mkw\u001b[49m\u001b[43m)\u001b[49m\n\u001b[0;32m    378\u001b[0m redirect_location \u001b[38;5;241m=\u001b[39m redirect \u001b[38;5;129;01mand\u001b[39;00m response\u001b[38;5;241m.\u001b[39mget_redirect_location()\n\u001b[0;32m    379\u001b[0m \u001b[38;5;28;01mif\u001b[39;00m \u001b[38;5;129;01mnot\u001b[39;00m redirect_location:\n",
      "File \u001b[1;32mc:\\Users\\NamFam\\anaconda3\\envs\\env-01\\Lib\\site-packages\\urllib3\\connectionpool.py:714\u001b[0m, in \u001b[0;36mHTTPConnectionPool.urlopen\u001b[1;34m(self, method, url, body, headers, retries, redirect, assert_same_host, timeout, pool_timeout, release_conn, chunked, body_pos, **response_kw)\u001b[0m\n\u001b[0;32m    711\u001b[0m     \u001b[38;5;28mself\u001b[39m\u001b[38;5;241m.\u001b[39m_prepare_proxy(conn)\n\u001b[0;32m    713\u001b[0m \u001b[38;5;66;03m# Make the request on the httplib connection object.\u001b[39;00m\n\u001b[1;32m--> 714\u001b[0m httplib_response \u001b[38;5;241m=\u001b[39m \u001b[38;5;28;43mself\u001b[39;49m\u001b[38;5;241;43m.\u001b[39;49m\u001b[43m_make_request\u001b[49m\u001b[43m(\u001b[49m\n\u001b[0;32m    715\u001b[0m \u001b[43m    \u001b[49m\u001b[43mconn\u001b[49m\u001b[43m,\u001b[49m\n\u001b[0;32m    716\u001b[0m \u001b[43m    \u001b[49m\u001b[43mmethod\u001b[49m\u001b[43m,\u001b[49m\n\u001b[0;32m    717\u001b[0m \u001b[43m    \u001b[49m\u001b[43murl\u001b[49m\u001b[43m,\u001b[49m\n\u001b[0;32m    718\u001b[0m \u001b[43m    \u001b[49m\u001b[43mtimeout\u001b[49m\u001b[38;5;241;43m=\u001b[39;49m\u001b[43mtimeout_obj\u001b[49m\u001b[43m,\u001b[49m\n\u001b[0;32m    719\u001b[0m \u001b[43m    \u001b[49m\u001b[43mbody\u001b[49m\u001b[38;5;241;43m=\u001b[39;49m\u001b[43mbody\u001b[49m\u001b[43m,\u001b[49m\n\u001b[0;32m    720\u001b[0m \u001b[43m    \u001b[49m\u001b[43mheaders\u001b[49m\u001b[38;5;241;43m=\u001b[39;49m\u001b[43mheaders\u001b[49m\u001b[43m,\u001b[49m\n\u001b[0;32m    721\u001b[0m \u001b[43m    \u001b[49m\u001b[43mchunked\u001b[49m\u001b[38;5;241;43m=\u001b[39;49m\u001b[43mchunked\u001b[49m\u001b[43m,\u001b[49m\n\u001b[0;32m    722\u001b[0m \u001b[43m\u001b[49m\u001b[43m)\u001b[49m\n\u001b[0;32m    724\u001b[0m \u001b[38;5;66;03m# If we're going to release the connection in ``finally:``, then\u001b[39;00m\n\u001b[0;32m    725\u001b[0m \u001b[38;5;66;03m# the response doesn't need to know about the connection. Otherwise\u001b[39;00m\n\u001b[0;32m    726\u001b[0m \u001b[38;5;66;03m# it will also try to release it and we'll have a double-release\u001b[39;00m\n\u001b[0;32m    727\u001b[0m \u001b[38;5;66;03m# mess.\u001b[39;00m\n\u001b[0;32m    728\u001b[0m response_conn \u001b[38;5;241m=\u001b[39m conn \u001b[38;5;28;01mif\u001b[39;00m \u001b[38;5;129;01mnot\u001b[39;00m release_conn \u001b[38;5;28;01melse\u001b[39;00m \u001b[38;5;28;01mNone\u001b[39;00m\n",
      "File \u001b[1;32mc:\\Users\\NamFam\\anaconda3\\envs\\env-01\\Lib\\site-packages\\urllib3\\connectionpool.py:466\u001b[0m, in \u001b[0;36mHTTPConnectionPool._make_request\u001b[1;34m(self, conn, method, url, timeout, chunked, **httplib_request_kw)\u001b[0m\n\u001b[0;32m    461\u001b[0m             httplib_response \u001b[38;5;241m=\u001b[39m conn\u001b[38;5;241m.\u001b[39mgetresponse()\n\u001b[0;32m    462\u001b[0m         \u001b[38;5;28;01mexcept\u001b[39;00m \u001b[38;5;167;01mBaseException\u001b[39;00m \u001b[38;5;28;01mas\u001b[39;00m e:\n\u001b[0;32m    463\u001b[0m             \u001b[38;5;66;03m# Remove the TypeError from the exception chain in\u001b[39;00m\n\u001b[0;32m    464\u001b[0m             \u001b[38;5;66;03m# Python 3 (including for exceptions like SystemExit).\u001b[39;00m\n\u001b[0;32m    465\u001b[0m             \u001b[38;5;66;03m# Otherwise it looks like a bug in the code.\u001b[39;00m\n\u001b[1;32m--> 466\u001b[0m             \u001b[43msix\u001b[49m\u001b[38;5;241;43m.\u001b[39;49m\u001b[43mraise_from\u001b[49m\u001b[43m(\u001b[49m\u001b[43me\u001b[49m\u001b[43m,\u001b[49m\u001b[43m \u001b[49m\u001b[38;5;28;43;01mNone\u001b[39;49;00m\u001b[43m)\u001b[49m\n\u001b[0;32m    467\u001b[0m \u001b[38;5;28;01mexcept\u001b[39;00m (SocketTimeout, BaseSSLError, SocketError) \u001b[38;5;28;01mas\u001b[39;00m e:\n\u001b[0;32m    468\u001b[0m     \u001b[38;5;28mself\u001b[39m\u001b[38;5;241m.\u001b[39m_raise_timeout(err\u001b[38;5;241m=\u001b[39me, url\u001b[38;5;241m=\u001b[39murl, timeout_value\u001b[38;5;241m=\u001b[39mread_timeout)\n",
      "File \u001b[1;32m<string>:3\u001b[0m, in \u001b[0;36mraise_from\u001b[1;34m(value, from_value)\u001b[0m\n",
      "File \u001b[1;32mc:\\Users\\NamFam\\anaconda3\\envs\\env-01\\Lib\\site-packages\\urllib3\\connectionpool.py:461\u001b[0m, in \u001b[0;36mHTTPConnectionPool._make_request\u001b[1;34m(self, conn, method, url, timeout, chunked, **httplib_request_kw)\u001b[0m\n\u001b[0;32m    458\u001b[0m \u001b[38;5;28;01mexcept\u001b[39;00m \u001b[38;5;167;01mTypeError\u001b[39;00m:\n\u001b[0;32m    459\u001b[0m     \u001b[38;5;66;03m# Python 3\u001b[39;00m\n\u001b[0;32m    460\u001b[0m     \u001b[38;5;28;01mtry\u001b[39;00m:\n\u001b[1;32m--> 461\u001b[0m         httplib_response \u001b[38;5;241m=\u001b[39m \u001b[43mconn\u001b[49m\u001b[38;5;241;43m.\u001b[39;49m\u001b[43mgetresponse\u001b[49m\u001b[43m(\u001b[49m\u001b[43m)\u001b[49m\n\u001b[0;32m    462\u001b[0m     \u001b[38;5;28;01mexcept\u001b[39;00m \u001b[38;5;167;01mBaseException\u001b[39;00m \u001b[38;5;28;01mas\u001b[39;00m e:\n\u001b[0;32m    463\u001b[0m         \u001b[38;5;66;03m# Remove the TypeError from the exception chain in\u001b[39;00m\n\u001b[0;32m    464\u001b[0m         \u001b[38;5;66;03m# Python 3 (including for exceptions like SystemExit).\u001b[39;00m\n\u001b[0;32m    465\u001b[0m         \u001b[38;5;66;03m# Otherwise it looks like a bug in the code.\u001b[39;00m\n\u001b[0;32m    466\u001b[0m         six\u001b[38;5;241m.\u001b[39mraise_from(e, \u001b[38;5;28;01mNone\u001b[39;00m)\n",
      "File \u001b[1;32mc:\\Users\\NamFam\\anaconda3\\envs\\env-01\\Lib\\http\\client.py:1378\u001b[0m, in \u001b[0;36mHTTPConnection.getresponse\u001b[1;34m(self)\u001b[0m\n\u001b[0;32m   1376\u001b[0m \u001b[38;5;28;01mtry\u001b[39;00m:\n\u001b[0;32m   1377\u001b[0m     \u001b[38;5;28;01mtry\u001b[39;00m:\n\u001b[1;32m-> 1378\u001b[0m         \u001b[43mresponse\u001b[49m\u001b[38;5;241;43m.\u001b[39;49m\u001b[43mbegin\u001b[49m\u001b[43m(\u001b[49m\u001b[43m)\u001b[49m\n\u001b[0;32m   1379\u001b[0m     \u001b[38;5;28;01mexcept\u001b[39;00m \u001b[38;5;167;01mConnectionError\u001b[39;00m:\n\u001b[0;32m   1380\u001b[0m         \u001b[38;5;28mself\u001b[39m\u001b[38;5;241m.\u001b[39mclose()\n",
      "File \u001b[1;32mc:\\Users\\NamFam\\anaconda3\\envs\\env-01\\Lib\\http\\client.py:318\u001b[0m, in \u001b[0;36mHTTPResponse.begin\u001b[1;34m(self)\u001b[0m\n\u001b[0;32m    316\u001b[0m \u001b[38;5;66;03m# read until we get a non-100 response\u001b[39;00m\n\u001b[0;32m    317\u001b[0m \u001b[38;5;28;01mwhile\u001b[39;00m \u001b[38;5;28;01mTrue\u001b[39;00m:\n\u001b[1;32m--> 318\u001b[0m     version, status, reason \u001b[38;5;241m=\u001b[39m \u001b[38;5;28;43mself\u001b[39;49m\u001b[38;5;241;43m.\u001b[39;49m\u001b[43m_read_status\u001b[49m\u001b[43m(\u001b[49m\u001b[43m)\u001b[49m\n\u001b[0;32m    319\u001b[0m     \u001b[38;5;28;01mif\u001b[39;00m status \u001b[38;5;241m!=\u001b[39m CONTINUE:\n\u001b[0;32m    320\u001b[0m         \u001b[38;5;28;01mbreak\u001b[39;00m\n",
      "File \u001b[1;32mc:\\Users\\NamFam\\anaconda3\\envs\\env-01\\Lib\\http\\client.py:279\u001b[0m, in \u001b[0;36mHTTPResponse._read_status\u001b[1;34m(self)\u001b[0m\n\u001b[0;32m    278\u001b[0m \u001b[38;5;28;01mdef\u001b[39;00m \u001b[38;5;21m_read_status\u001b[39m(\u001b[38;5;28mself\u001b[39m):\n\u001b[1;32m--> 279\u001b[0m     line \u001b[38;5;241m=\u001b[39m \u001b[38;5;28mstr\u001b[39m(\u001b[38;5;28mself\u001b[39m\u001b[38;5;241m.\u001b[39mfp\u001b[38;5;241m.\u001b[39mreadline(_MAXLINE \u001b[38;5;241m+\u001b[39m \u001b[38;5;241m1\u001b[39m), \u001b[38;5;124m\"\u001b[39m\u001b[38;5;124miso-8859-1\u001b[39m\u001b[38;5;124m\"\u001b[39m)\n\u001b[0;32m    280\u001b[0m     \u001b[38;5;28;01mif\u001b[39;00m \u001b[38;5;28mlen\u001b[39m(line) \u001b[38;5;241m>\u001b[39m _MAXLINE:\n\u001b[0;32m    281\u001b[0m         \u001b[38;5;28;01mraise\u001b[39;00m LineTooLong(\u001b[38;5;124m\"\u001b[39m\u001b[38;5;124mstatus line\u001b[39m\u001b[38;5;124m\"\u001b[39m)\n",
      "File \u001b[1;32mc:\\Users\\NamFam\\anaconda3\\envs\\env-01\\Lib\\socket.py:706\u001b[0m, in \u001b[0;36mSocketIO.readinto\u001b[1;34m(self, b)\u001b[0m\n\u001b[0;32m    704\u001b[0m \u001b[38;5;28;01mwhile\u001b[39;00m \u001b[38;5;28;01mTrue\u001b[39;00m:\n\u001b[0;32m    705\u001b[0m     \u001b[38;5;28;01mtry\u001b[39;00m:\n\u001b[1;32m--> 706\u001b[0m         \u001b[38;5;28;01mreturn\u001b[39;00m \u001b[38;5;28;43mself\u001b[39;49m\u001b[38;5;241;43m.\u001b[39;49m\u001b[43m_sock\u001b[49m\u001b[38;5;241;43m.\u001b[39;49m\u001b[43mrecv_into\u001b[49m\u001b[43m(\u001b[49m\u001b[43mb\u001b[49m\u001b[43m)\u001b[49m\n\u001b[0;32m    707\u001b[0m     \u001b[38;5;28;01mexcept\u001b[39;00m timeout:\n\u001b[0;32m    708\u001b[0m         \u001b[38;5;28mself\u001b[39m\u001b[38;5;241m.\u001b[39m_timeout_occurred \u001b[38;5;241m=\u001b[39m \u001b[38;5;28;01mTrue\u001b[39;00m\n",
      "\u001b[1;31mKeyboardInterrupt\u001b[0m: "
     ]
    }
   ],
   "source": [
    "for product_url in product_urls[:3]:\n",
    "    \n",
    "    # product_url += '#top-tskt'\n",
    "    print(product_url)\n",
    "    \n",
    "    driver.get(product_url)\n",
    "\n",
    "    # Find button for showing details of tech specification\n",
    "    # button_chct = WebDriverWait(driver, 10).until(EC.element_to_be_clickable((By.CSS_SELECTOR, \".btn-detail.btn-short-spec.not-have-instruction\")))\n",
    "    button_chct = WebDriverWait(driver, 10).until(EC.element_to_be_clickable((By.CSS_SELECTOR, \".btn-detail.btn-short-spec\")))\n",
    "    button_chct.click()\n",
    "\n",
    "    p_element = WebDriverWait(driver, 10).until(EC.presence_of_element_located((By.XPATH, \"//p[text()='Hãng:']\")))\n",
    "\n",
    "    soup = BeautifulSoup(driver.page_source, 'html.parser')\n",
    "    tech_specs = extract_tech_specs(soup)\n",
    "    print(tech_specs)\n",
    "\n",
    "    button = driver.find_element(By.ID, 'tab-article-gallery-0')\n",
    "    button.click()\n",
    "\n",
    "    soup = BeautifulSoup(driver.page_source, 'html.parser')\n",
    "    \n",
    "    product_info = soup.find('div', class_='content-article').get_text()\n",
    "\n",
    "    rating_tag = soup.find('div', class_='point')\n",
    "    if rating_tag:\n",
    "        rating = rating_tag.p.text\n",
    "    else:\n",
    "        rating = \"Chưa có đánh giá\"\n",
    "\n",
    "    reviews_tag = soup.find('a', class_ = 'total-cmtrt')\n",
    "    if reviews_tag:\n",
    "        n_reviews = reviews_tag.text.replace('đánh giá', '').strip()\n",
    "    else:\n",
    "        n_reviews = 0\n",
    "\n",
    "    print(rating, n_reviews)\n",
    "    # print(product_info)\n",
    "\n",
    "    # Find all tags with style=\"text-align: justify;\"\n",
    "    # tags_with_style = soup.find_all(lambda tag: tag.get('style') == \"text-align: justify;\")\n",
    "    # # print(tags_with_style)\n",
    "\n",
    "    # texts = [tag.get_text() for tag in tags_with_style]\n",
    "    # product_info = '\\n'.join(texts)\n",
    "\n",
    "\n",
    "    # # Write product information to JSON\n",
    "    # product_info = {\n",
    "    #     'url': product_url,\n",
    "    #     'tech_specs': tech_specs,\n",
    "    #     'info': product_info\n",
    "    # }\n",
    "\n",
    "    \n",
    "    # with open('products.json', 'a', encoding='utf-8') as outfile:\n",
    "    #     json.dump(product_info, outfile, ensure_ascii=False)\n",
    "    #     outfile.write('\\n')\n",
    "\n",
    "    # break\n"
   ]
  },
  {
   "cell_type": "code",
   "execution_count": 13,
   "metadata": {},
   "outputs": [],
   "source": [
    "def extract_general_inf(soup):\n",
    "    pass"
   ]
  },
  {
   "cell_type": "code",
   "execution_count": 77,
   "metadata": {},
   "outputs": [],
   "source": [
    "product_url = 'https://www.thegioididong.com/dtdd/iphone-11'\n",
    "driver.get(product_url)\n",
    "soup = BeautifulSoup(driver.page_source, 'html.parser')\n"
   ]
  },
  {
   "cell_type": "code",
   "execution_count": 13,
   "metadata": {},
   "outputs": [],
   "source": []
  },
  {
   "cell_type": "code",
   "execution_count": 78,
   "metadata": {},
   "outputs": [
    {
     "data": {
      "text/plain": [
       "'Điện thoại iPhone 11 64GB'"
      ]
     },
     "execution_count": 78,
     "metadata": {},
     "output_type": "execute_result"
    }
   ],
   "source": [
    "name = soup.find('section').find('h1').text\n",
    "name"
   ]
  },
  {
   "cell_type": "code",
   "execution_count": 15,
   "metadata": {},
   "outputs": [
    {
     "name": "stdout",
     "output_type": "stream",
     "text": [
      "['Vàng', 'Xám', 'Đen', 'Tím']\n"
     ]
    },
    {
     "data": {
      "text/plain": [
       "'Vàng'"
      ]
     },
     "execution_count": 15,
     "metadata": {},
     "output_type": "execute_result"
    }
   ],
   "source": [
    "colors_tag = soup.find('div', class_='box03 color group desk')\n",
    "# print(colors_tag)\n",
    "\n",
    "    \n",
    "all_colors = [a_tag.get_text() for a_tag in colors_tag.find_all('a', class_='box03__item') ]\n",
    "print(all_colors)\n",
    "\n",
    "this_color = colors_tag.find('a', class_='box03__item item act').text\n",
    "this_color"
   ]
  },
  {
   "cell_type": "code",
   "execution_count": 16,
   "metadata": {},
   "outputs": [
    {
     "name": "stdout",
     "output_type": "stream",
     "text": [
      "['256GB', '512GB']\n"
     ]
    },
    {
     "data": {
      "text/plain": [
       "'256GB'"
      ]
     },
     "execution_count": 16,
     "metadata": {},
     "output_type": "execute_result"
    }
   ],
   "source": [
    "versions_tag = soup.find('div', class_='box03 group desk')\n",
    "# print(colors_tag)\n",
    "\n",
    "    \n",
    "all_versions = [a_tag.get_text() for a_tag in versions_tag.find_all('a', class_='box03__item') ]\n",
    "print(all_versions)\n",
    "\n",
    "this_version = versions_tag.find('a', class_='box03__item item act').text\n",
    "this_version"
   ]
  },
  {
   "cell_type": "code",
   "execution_count": 23,
   "metadata": {},
   "outputs": [
    {
     "name": "stdout",
     "output_type": "stream",
     "text": [
      "20.490.000₫\n",
      "22.990.000₫\n",
      "10%\n",
      "23:00 | 30/04\n"
     ]
    }
   ],
   "source": [
    "# Price\n",
    "price_tag = soup.find('div', class_='bs_price')\n",
    "# print(price_tag)\n",
    "\n",
    "promotion_price = price_tag.find('strong').text\n",
    "print(promotion_price)\n",
    "\n",
    "original_price = price_tag.find('em').text\n",
    "print(original_price)\n",
    "\n",
    "discount_percentage = price_tag.find('i').text.replace('(', '').replace(')', '').replace('-','')\n",
    "print(discount_percentage)\n",
    "\n",
    "promotion_end_date = soup.find('div', class_='bs_time').find_all('span')[1].text\n",
    "print(promotion_end_date)\n",
    "\n",
    "# original_price\n",
    "# discount_percentage\n",
    "# promotion_en_ddate"
   ]
  },
  {
   "cell_type": "code",
   "execution_count": 60,
   "metadata": {},
   "outputs": [
    {
     "name": "stdout",
     "output_type": "stream",
     "text": [
      "Hư gì đổi nấy 12 tháng  tại 3160 siêu thị toàn quốc (miễn phí tháng đầu)\n",
      "Bảo hành chính hãng điện thoại 1 năm tại các trung tâm bảo hành hãng\n",
      "Bộ sản phẩm gồm: Cáp Type C, Hộp, Sách hướng dẫn, Cây lấy sim\n"
     ]
    }
   ],
   "source": [
    "policy_tag = soup.find('div', class_='policy')\n",
    "# print(policy_tag)\n",
    "a_tags = policy_tag.find_all('a')\n",
    "\n",
    "# print(a_tags)\n",
    "\n",
    "# print(len(a_tags))\n",
    "\n",
    "# a_tag_texts = [a_tag.text.strip() for a_tag in a_tags if a_tag.text]\n",
    "# print(a_tag_texts)\n",
    "\n",
    "policies = [p_tag.text.replace('Xem chi tiết', '').replace('Xem địa chỉ bảo hành', '').replace('Xem hình', '').strip() for p_tag in policy_tag.find_all('p')]\n",
    "\n",
    "for policy in policies:\n",
    "    print(policy)\n"
   ]
  },
  {
   "cell_type": "code",
   "execution_count": 125,
   "metadata": {},
   "outputs": [],
   "source": [
    "driver = webdriver.Chrome()"
   ]
  },
  {
   "cell_type": "code",
   "execution_count": 136,
   "metadata": {},
   "outputs": [],
   "source": [
    "product_url = 'https://www.thegioididong.com/dtdd/oppo-reno11-f-5g'\n",
    "driver.get(product_url)\n",
    "soup = BeautifulSoup(driver.page_source, 'html.parser')\n"
   ]
  },
  {
   "cell_type": "code",
   "execution_count": 139,
   "metadata": {},
   "outputs": [],
   "source": [
    "def extract_general_info(soup):\n",
    "    # Name\n",
    "    name = soup.find('section').find('h1').text\n",
    "\n",
    "    # Colors\n",
    "    colors_tag = soup.find('div', class_='box03 color group desk')\n",
    "\n",
    "    if colors_tag:\n",
    "        all_colors = [a_tag.get_text() for a_tag in colors_tag.find_all('a', class_='box03__item')]\n",
    "        this_color = colors_tag.find('a', class_='box03__item item act').text\n",
    "\n",
    "    else:\n",
    "        all_colors = this_color = None\n",
    "\n",
    "\n",
    "    # Versions\n",
    "    versions_tag = soup.find('div', class_='box03 group desk')\n",
    "\n",
    "    if versions_tag:\n",
    "\n",
    "        all_versions = [a_tag.get_text() for a_tag in versions_tag.find_all('a', class_='box03__item')]\n",
    "        this_version = versions_tag.find('a', class_='box03__item item act').text\n",
    "\n",
    "    else: \n",
    "        all_versions = this_version = None\n",
    "\n",
    "    # Prices\n",
    "    price_tag = soup.find('div', class_='bs_price')\n",
    "\n",
    "    if price_tag:\n",
    "        present_price = price_tag.find('strong').text\n",
    "        original_price = price_tag.find('em').text\n",
    "        discount_percentage = price_tag.find('i').text.replace('(', '').replace(')', '').replace('-', '')\n",
    "        promotion_end_date = soup.find('div', class_='bs_time').find_all('span')[1].text\n",
    "    \n",
    "    else:\n",
    "        \n",
    "        price_tag = soup.find('div', class_='price-one')\n",
    "        if price_tag:\n",
    "            present_price = price_tag.find('p', class_='box-price-present').text.strip()\n",
    "            \n",
    "            original_price_tag = price_tag.find('p', class_='box-price-old')\n",
    "            if original_price_tag:\n",
    "                original_price = original_price_tag.text.strip()\n",
    "            else: \n",
    "                original_price = None\n",
    "                \n",
    "            discount_percentage_tag = price_tag.find('p', class_='box-price-percent')\n",
    "            if discount_percentage_tag:\n",
    "                discount_percentage = discount_percentage_tag.text.strip().replace('-', '')\n",
    "            else: \n",
    "                discount_percentage = None\n",
    "\n",
    "            promotion_end_date_tag = soup.find('i', class_='pr-txt')\n",
    "            if promotion_end_date_tag:\n",
    "                promotion_end_date = promotion_end_date_tag.text\n",
    "            else:\n",
    "                promotion_end_date = None\n",
    "        else:\n",
    "            present_price = original_price = discount_percentage = promotion_end_date = None\n",
    "\n",
    "\n",
    "    # Policies\n",
    "    policy_tag = soup.find('div', class_='policy')\n",
    "    policies = [p_tag.text.replace('Xem chi tiết', '').replace('Xem địa chỉ bảo hành', '').replace('Xem hình', '').strip() for p_tag in policy_tag.find_all('p')]\n",
    "\n",
    "    # Promotion\n",
    "    promotion_tags = soup.find_all('div', class_='divb-right')\n",
    "    promotions = [p.text.replace(\"(Xem chi tiết tại đây)\", '').replace(\"Xem chi tiết\", '').strip() for p in promotion_tags]\n",
    "\n",
    "    return {\n",
    "        'name': name,\n",
    "        'colors': {'all_colors': all_colors, 'this_color': this_color},\n",
    "        'versions': {'all_versions': all_versions, 'this_version': this_version},\n",
    "        'prices': {'present_price': present_price, 'original_price': original_price, 'discount_percentage': discount_percentage, 'promotion_end_date': promotion_end_date},\n",
    "        'policies': policies,\n",
    "        'promotions': promotions\n",
    "    }\n"
   ]
  },
  {
   "cell_type": "code",
   "execution_count": 140,
   "metadata": {},
   "outputs": [
    {
     "data": {
      "text/plain": [
       "{'name': 'Điện thoại OPPO Reno11 F 5G Tím',\n",
       " 'colors': {'all_colors': None, 'this_color': None},\n",
       " 'versions': {'all_versions': ['Màu Đặc Quyền', 'Phiên Bản Chuẩn'],\n",
       "  'this_version': 'Màu Đặc Quyền'},\n",
       " 'prices': {'present_price': '8.990.000₫',\n",
       "  'original_price': None,\n",
       "  'discount_percentage': None,\n",
       "  'promotion_end_date': 'Giá và khuyến mãi dự kiến áp dụng đến 23:00 | 01/05'},\n",
       " 'policies': ['1 đổi 1 trong 30 ngày đối với sản phẩm lỗi  tại 3160 siêu thị toàn quốc',\n",
       "  'Bảo hành chính hãng điện thoại 1 năm tại các trung tâm bảo hành hãng',\n",
       "  'Bộ sản phẩm gồm: Hộp, Sách hướng dẫn, Cây lấy sim, Ốp lưng, Cáp Type C, Củ sạc nhanh rời đầu Type A'],\n",
       " 'promotions': ['Phiếu mua hàng 300,000đ',\n",
       "  'Thu cũ Đổi mới: Giảm đến 1 triệu (Tuỳ model máy cũ, Không kèm khuyến mãi giảm giá khác, cổng thanh toán, mua kèm)',\n",
       "  'Nhập mã VNPAYTGDD2 giảm ngay 1% (tối đa 200.000đ) khi thanh toán qua VNPAY-QR, áp dụng cho đơn hàng từ 3 Triệu']}"
      ]
     },
     "execution_count": 140,
     "metadata": {},
     "output_type": "execute_result"
    }
   ],
   "source": [
    "# Usage example:\n",
    "extracted_info = extract_general_info(soup)\n",
    "extracted_info"
   ]
  },
  {
   "cell_type": "code",
   "execution_count": 101,
   "metadata": {},
   "outputs": [],
   "source": [
    "def generate_hierarchical_table(data):\n",
    "    table_html = \"<table>\"\n",
    "    for category, specs in data.items():\n",
    "        table_html += f\"<tr><th colspan='2'>{category}</th></tr>\"\n",
    "        for key, value in specs.items():\n",
    "            if isinstance(value, dict):\n",
    "                for sub_key, sub_value in value.items():\n",
    "                    table_html += f\"<tr><td>{sub_key}</td><td>{sub_value}</td></tr>\"\n",
    "            else:\n",
    "                table_html += f\"<tr><td>{key}</td><td>{value}</td></tr>\"\n",
    "    table_html += \"</table>\"\n",
    "    return table_html"
   ]
  },
  {
   "cell_type": "code",
   "execution_count": 103,
   "metadata": {},
   "outputs": [
    {
     "ename": "AttributeError",
     "evalue": "'str' object has no attribute 'items'",
     "output_type": "error",
     "traceback": [
      "\u001b[1;31m---------------------------------------------------------------------------\u001b[0m",
      "\u001b[1;31mAttributeError\u001b[0m                            Traceback (most recent call last)",
      "Cell \u001b[1;32mIn[103], line 1\u001b[0m\n\u001b[1;32m----> 1\u001b[0m \u001b[43mgenerate_hierarchical_table\u001b[49m\u001b[43m(\u001b[49m\u001b[43mextracted_info\u001b[49m\u001b[43m)\u001b[49m\n",
      "Cell \u001b[1;32mIn[101], line 5\u001b[0m, in \u001b[0;36mgenerate_hierarchical_table\u001b[1;34m(data)\u001b[0m\n\u001b[0;32m      3\u001b[0m \u001b[38;5;28;01mfor\u001b[39;00m category, specs \u001b[38;5;129;01min\u001b[39;00m data\u001b[38;5;241m.\u001b[39mitems():\n\u001b[0;32m      4\u001b[0m     table_html \u001b[38;5;241m+\u001b[39m\u001b[38;5;241m=\u001b[39m \u001b[38;5;124mf\u001b[39m\u001b[38;5;124m\"\u001b[39m\u001b[38;5;124m<tr><th colspan=\u001b[39m\u001b[38;5;124m'\u001b[39m\u001b[38;5;124m2\u001b[39m\u001b[38;5;124m'\u001b[39m\u001b[38;5;124m>\u001b[39m\u001b[38;5;132;01m{\u001b[39;00mcategory\u001b[38;5;132;01m}\u001b[39;00m\u001b[38;5;124m</th></tr>\u001b[39m\u001b[38;5;124m\"\u001b[39m\n\u001b[1;32m----> 5\u001b[0m     \u001b[38;5;28;01mfor\u001b[39;00m key, value \u001b[38;5;129;01min\u001b[39;00m \u001b[43mspecs\u001b[49m\u001b[38;5;241;43m.\u001b[39;49m\u001b[43mitems\u001b[49m():\n\u001b[0;32m      6\u001b[0m         \u001b[38;5;28;01mif\u001b[39;00m \u001b[38;5;28misinstance\u001b[39m(value, \u001b[38;5;28mdict\u001b[39m):\n\u001b[0;32m      7\u001b[0m             \u001b[38;5;28;01mfor\u001b[39;00m sub_key, sub_value \u001b[38;5;129;01min\u001b[39;00m value\u001b[38;5;241m.\u001b[39mitems():\n",
      "\u001b[1;31mAttributeError\u001b[0m: 'str' object has no attribute 'items'"
     ]
    }
   ],
   "source": [
    "generate_hierarchical_table(extracted_info)"
   ]
  },
  {
   "cell_type": "code",
   "execution_count": 96,
   "metadata": {},
   "outputs": [
    {
     "data": {
      "text/plain": [
       "['Ốp lưng chính hãng Apple giảm thêm 300K khi mua kèm iPhone (áp dụng tuỳ model)',\n",
       " 'Thu cũ Đổi mới: Giảm đến 2 triệu (Tuỳ model máy cũ, Không kèm thanh toán qua cổng online, mua kèm)',\n",
       " 'Nhập mã VNPAYTGDD2 giảm ngay 1% (tối đa 200.000đ) khi thanh toán qua VNPAY-QR, áp dụng cho đơn hàng từ 3 Triệu']"
      ]
     },
     "execution_count": 96,
     "metadata": {},
     "output_type": "execute_result"
    }
   ],
   "source": [
    "# promotion_tag = soup.find('div', 'pr-item')\n",
    "promotion_tags = soup.find_all('div', 'divb-right')\n",
    "promotion_tags = [p.text.replace(\"(Xem chi tiết tại đây)\", '').replace(\"Xem chi tiết\", '').strip() for p in promotion_tags]\n",
    "promotion_tags"
   ]
  },
  {
   "cell_type": "code",
   "execution_count": null,
   "metadata": {},
   "outputs": [],
   "source": []
  },
  {
   "cell_type": "code",
   "execution_count": 28,
   "metadata": {},
   "outputs": [
    {
     "name": "stdout",
     "output_type": "stream",
     "text": [
      "Current date: 20240327\n"
     ]
    }
   ],
   "source": [
    "from datetime import datetime\n",
    "\n",
    "def get_current_date():\n",
    "    \"\"\"\n",
    "    Get the current date in the format YYYY-MM-DD.\n",
    "\n",
    "    Returns:\n",
    "        str: The current date in the format YYYY-MM-DD.\n",
    "    \"\"\"\n",
    "    return datetime.today().strftime('%Y%m%d')\n",
    "\n",
    "# Example usage:\n",
    "current_date = get_current_date()\n",
    "print(\"Current date:\", current_date)\n"
   ]
  },
  {
   "cell_type": "code",
   "execution_count": null,
   "metadata": {},
   "outputs": [],
   "source": []
  }
 ],
 "metadata": {
  "kernelspec": {
   "display_name": "env01",
   "language": "python",
   "name": "python3"
  },
  "language_info": {
   "codemirror_mode": {
    "name": "ipython",
    "version": 3
   },
   "file_extension": ".py",
   "mimetype": "text/x-python",
   "name": "python",
   "nbconvert_exporter": "python",
   "pygments_lexer": "ipython3",
   "version": "3.11.5"
  }
 },
 "nbformat": 4,
 "nbformat_minor": 2
}
